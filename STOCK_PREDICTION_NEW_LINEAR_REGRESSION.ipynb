{
 "cells": [
  {
   "cell_type": "code",
   "execution_count": 1,
   "id": "c2d67343",
   "metadata": {},
   "outputs": [],
   "source": [
    "import numpy as np\n",
    "import pandas as pd\n",
    "import matplotlib.pyplot as plt\n",
    "import pandas_datareader as datareader\n",
    "from datetime import date,timedelta"
   ]
  },
  {
   "cell_type": "code",
   "execution_count": 2,
   "id": "04abc60e",
   "metadata": {},
   "outputs": [
    {
     "data": {
      "text/html": [
       "<div>\n",
       "<style scoped>\n",
       "    .dataframe tbody tr th:only-of-type {\n",
       "        vertical-align: middle;\n",
       "    }\n",
       "\n",
       "    .dataframe tbody tr th {\n",
       "        vertical-align: top;\n",
       "    }\n",
       "\n",
       "    .dataframe thead th {\n",
       "        text-align: right;\n",
       "    }\n",
       "</style>\n",
       "<table border=\"1\" class=\"dataframe\">\n",
       "  <thead>\n",
       "    <tr style=\"text-align: right;\">\n",
       "      <th></th>\n",
       "      <th>High</th>\n",
       "      <th>Low</th>\n",
       "      <th>Open</th>\n",
       "      <th>Close</th>\n",
       "      <th>Volume</th>\n",
       "      <th>Adj Close</th>\n",
       "    </tr>\n",
       "    <tr>\n",
       "      <th>Date</th>\n",
       "      <th></th>\n",
       "      <th></th>\n",
       "      <th></th>\n",
       "      <th></th>\n",
       "      <th></th>\n",
       "      <th></th>\n",
       "    </tr>\n",
       "  </thead>\n",
       "  <tbody>\n",
       "    <tr>\n",
       "      <th>2010-12-31</th>\n",
       "      <td>11.552857</td>\n",
       "      <td>11.475357</td>\n",
       "      <td>11.533929</td>\n",
       "      <td>11.520000</td>\n",
       "      <td>193508000.0</td>\n",
       "      <td>9.849806</td>\n",
       "    </tr>\n",
       "    <tr>\n",
       "      <th>2011-01-03</th>\n",
       "      <td>11.795000</td>\n",
       "      <td>11.601429</td>\n",
       "      <td>11.630000</td>\n",
       "      <td>11.770357</td>\n",
       "      <td>445138400.0</td>\n",
       "      <td>10.063864</td>\n",
       "    </tr>\n",
       "    <tr>\n",
       "      <th>2011-01-04</th>\n",
       "      <td>11.875000</td>\n",
       "      <td>11.719643</td>\n",
       "      <td>11.872857</td>\n",
       "      <td>11.831786</td>\n",
       "      <td>309080800.0</td>\n",
       "      <td>10.116387</td>\n",
       "    </tr>\n",
       "    <tr>\n",
       "      <th>2011-01-05</th>\n",
       "      <td>11.940714</td>\n",
       "      <td>11.767857</td>\n",
       "      <td>11.769643</td>\n",
       "      <td>11.928571</td>\n",
       "      <td>255519600.0</td>\n",
       "      <td>10.199141</td>\n",
       "    </tr>\n",
       "    <tr>\n",
       "      <th>2011-01-06</th>\n",
       "      <td>11.973214</td>\n",
       "      <td>11.889286</td>\n",
       "      <td>11.954286</td>\n",
       "      <td>11.918929</td>\n",
       "      <td>300428800.0</td>\n",
       "      <td>10.190899</td>\n",
       "    </tr>\n",
       "    <tr>\n",
       "      <th>...</th>\n",
       "      <td>...</td>\n",
       "      <td>...</td>\n",
       "      <td>...</td>\n",
       "      <td>...</td>\n",
       "      <td>...</td>\n",
       "      <td>...</td>\n",
       "    </tr>\n",
       "    <tr>\n",
       "      <th>2011-05-18</th>\n",
       "      <td>12.180357</td>\n",
       "      <td>12.000000</td>\n",
       "      <td>12.016786</td>\n",
       "      <td>12.138214</td>\n",
       "      <td>334776400.0</td>\n",
       "      <td>10.378389</td>\n",
       "    </tr>\n",
       "    <tr>\n",
       "      <th>2011-05-19</th>\n",
       "      <td>12.228929</td>\n",
       "      <td>12.095357</td>\n",
       "      <td>12.217143</td>\n",
       "      <td>12.161786</td>\n",
       "      <td>261170000.0</td>\n",
       "      <td>10.398548</td>\n",
       "    </tr>\n",
       "    <tr>\n",
       "      <th>2011-05-20</th>\n",
       "      <td>12.176786</td>\n",
       "      <td>11.965000</td>\n",
       "      <td>12.127143</td>\n",
       "      <td>11.972143</td>\n",
       "      <td>337968400.0</td>\n",
       "      <td>10.236397</td>\n",
       "    </tr>\n",
       "    <tr>\n",
       "      <th>2011-05-23</th>\n",
       "      <td>11.999286</td>\n",
       "      <td>11.765000</td>\n",
       "      <td>11.784643</td>\n",
       "      <td>11.942857</td>\n",
       "      <td>383600000.0</td>\n",
       "      <td>10.211357</td>\n",
       "    </tr>\n",
       "    <tr>\n",
       "      <th>2011-05-24</th>\n",
       "      <td>11.996429</td>\n",
       "      <td>11.833571</td>\n",
       "      <td>11.982143</td>\n",
       "      <td>11.863929</td>\n",
       "      <td>321927200.0</td>\n",
       "      <td>10.143871</td>\n",
       "    </tr>\n",
       "  </tbody>\n",
       "</table>\n",
       "<p>100 rows × 6 columns</p>\n",
       "</div>"
      ],
      "text/plain": [
       "                 High        Low       Open      Close       Volume  Adj Close\n",
       "Date                                                                          \n",
       "2010-12-31  11.552857  11.475357  11.533929  11.520000  193508000.0   9.849806\n",
       "2011-01-03  11.795000  11.601429  11.630000  11.770357  445138400.0  10.063864\n",
       "2011-01-04  11.875000  11.719643  11.872857  11.831786  309080800.0  10.116387\n",
       "2011-01-05  11.940714  11.767857  11.769643  11.928571  255519600.0  10.199141\n",
       "2011-01-06  11.973214  11.889286  11.954286  11.918929  300428800.0  10.190899\n",
       "...               ...        ...        ...        ...          ...        ...\n",
       "2011-05-18  12.180357  12.000000  12.016786  12.138214  334776400.0  10.378389\n",
       "2011-05-19  12.228929  12.095357  12.217143  12.161786  261170000.0  10.398548\n",
       "2011-05-20  12.176786  11.965000  12.127143  11.972143  337968400.0  10.236397\n",
       "2011-05-23  11.999286  11.765000  11.784643  11.942857  383600000.0  10.211357\n",
       "2011-05-24  11.996429  11.833571  11.982143  11.863929  321927200.0  10.143871\n",
       "\n",
       "[100 rows x 6 columns]"
      ]
     },
     "execution_count": 2,
     "metadata": {},
     "output_type": "execute_result"
    }
   ],
   "source": [
    "start='2011-01-01'\n",
    "end=date.today()\n",
    "data=datareader.DataReader('AAPL','yahoo',start,end)\n",
    "data1=datareader.DataReader('MSFT','yahoo',start,end)\n",
    "data_copy=data.copy()\n",
    "data1_copy=data1.copy()\n",
    "data.head(100)"
   ]
  },
  {
   "cell_type": "code",
   "execution_count": 3,
   "id": "12e8aa6a",
   "metadata": {},
   "outputs": [
    {
     "data": {
      "text/plain": [
       "[<matplotlib.lines.Line2D at 0x28d4027a5e0>]"
      ]
     },
     "execution_count": 3,
     "metadata": {},
     "output_type": "execute_result"
    },
    {
     "data": {
      "image/png": "[encoded data removed]",
      "text/plain": [
       "<Figure size 864x432 with 1 Axes>"
      ]
     },
     "metadata": {
      "needs_background": "light"
     },
     "output_type": "display_data"
    }
   ],
   "source": [
    "plt.figure(figsize=(12, 6))\n",
    "plt.plot(data.Close)"
   ]
  },
  {
   "cell_type": "code",
   "execution_count": 4,
   "id": "7c0dd44f",
   "metadata": {},
   "outputs": [],
   "source": [
    "data=data.reset_index()\n",
    "data1=data1.reset_index()"
   ]
  },
  {
   "cell_type": "code",
   "execution_count": 5,
   "id": "42dacc3f",
   "metadata": {},
   "outputs": [
    {
     "name": "stdout",
     "output_type": "stream",
     "text": [
      "<class 'pandas.core.frame.DataFrame'>\n",
      "RangeIndex: 2893 entries, 0 to 2892\n",
      "Data columns (total 7 columns):\n",
      " #   Column     Non-Null Count  Dtype         \n",
      "---  ------     --------------  -----         \n",
      " 0   Date       2893 non-null   datetime64[ns]\n",
      " 1   High       2893 non-null   float64       \n",
      " 2   Low        2893 non-null   float64       \n",
      " 3   Open       2893 non-null   float64       \n",
      " 4   Close      2893 non-null   float64       \n",
      " 5   Volume     2893 non-null   float64       \n",
      " 6   Adj Close  2893 non-null   float64       \n",
      "dtypes: datetime64[ns](1), float64(6)\n",
      "memory usage: 158.3 KB\n"
     ]
    }
   ],
   "source": [
    "data.info()"
   ]
  },
  {
   "cell_type": "code",
   "execution_count": 6,
   "id": "9f8c61d2",
   "metadata": {},
   "outputs": [],
   "source": [
    "data['Date'] = pd.to_datetime(data['Date'], format = '%Y%m%d')\n",
    "data1['Date'] = pd.to_datetime(data1['Date'], format = '%Y%m%d')"
   ]
  },
  {
   "cell_type": "code",
   "execution_count": 7,
   "id": "f9c18d9c",
   "metadata": {},
   "outputs": [],
   "source": [
    "data['day'] = data['Date'].dt.day\n",
    "data['month'] = data['Date'].dt.month\n",
    "data['year'] = data['Date'].dt.year\n",
    "\n",
    "data1['day'] = data1['Date'].dt.day\n",
    "data1['month'] = data1['Date'].dt.month\n",
    "data1['year'] = data1['Date'].dt.year"
   ]
  },
  {
   "cell_type": "code",
   "execution_count": 8,
   "id": "64c75491",
   "metadata": {},
   "outputs": [
    {
     "data": {
      "text/html": [
       "<div>\n",
       "<style scoped>\n",
       "    .dataframe tbody tr th:only-of-type {\n",
       "        vertical-align: middle;\n",
       "    }\n",
       "\n",
       "    .dataframe tbody tr th {\n",
       "        vertical-align: top;\n",
       "    }\n",
       "\n",
       "    .dataframe thead th {\n",
       "        text-align: right;\n",
       "    }\n",
       "</style>\n",
       "<table border=\"1\" class=\"dataframe\">\n",
       "  <thead>\n",
       "    <tr style=\"text-align: right;\">\n",
       "      <th></th>\n",
       "      <th>Date</th>\n",
       "      <th>High</th>\n",
       "      <th>Low</th>\n",
       "      <th>Open</th>\n",
       "      <th>Close</th>\n",
       "      <th>Volume</th>\n",
       "      <th>Adj Close</th>\n",
       "      <th>day</th>\n",
       "      <th>month</th>\n",
       "      <th>year</th>\n",
       "    </tr>\n",
       "  </thead>\n",
       "  <tbody>\n",
       "    <tr>\n",
       "      <th>0</th>\n",
       "      <td>2010-12-31</td>\n",
       "      <td>11.552857</td>\n",
       "      <td>11.475357</td>\n",
       "      <td>11.533929</td>\n",
       "      <td>11.520000</td>\n",
       "      <td>193508000.0</td>\n",
       "      <td>9.849806</td>\n",
       "      <td>31</td>\n",
       "      <td>12</td>\n",
       "      <td>2010</td>\n",
       "    </tr>\n",
       "    <tr>\n",
       "      <th>1</th>\n",
       "      <td>2011-01-03</td>\n",
       "      <td>11.795000</td>\n",
       "      <td>11.601429</td>\n",
       "      <td>11.630000</td>\n",
       "      <td>11.770357</td>\n",
       "      <td>445138400.0</td>\n",
       "      <td>10.063864</td>\n",
       "      <td>3</td>\n",
       "      <td>1</td>\n",
       "      <td>2011</td>\n",
       "    </tr>\n",
       "    <tr>\n",
       "      <th>2</th>\n",
       "      <td>2011-01-04</td>\n",
       "      <td>11.875000</td>\n",
       "      <td>11.719643</td>\n",
       "      <td>11.872857</td>\n",
       "      <td>11.831786</td>\n",
       "      <td>309080800.0</td>\n",
       "      <td>10.116387</td>\n",
       "      <td>4</td>\n",
       "      <td>1</td>\n",
       "      <td>2011</td>\n",
       "    </tr>\n",
       "    <tr>\n",
       "      <th>3</th>\n",
       "      <td>2011-01-05</td>\n",
       "      <td>11.940714</td>\n",
       "      <td>11.767857</td>\n",
       "      <td>11.769643</td>\n",
       "      <td>11.928571</td>\n",
       "      <td>255519600.0</td>\n",
       "      <td>10.199141</td>\n",
       "      <td>5</td>\n",
       "      <td>1</td>\n",
       "      <td>2011</td>\n",
       "    </tr>\n",
       "    <tr>\n",
       "      <th>4</th>\n",
       "      <td>2011-01-06</td>\n",
       "      <td>11.973214</td>\n",
       "      <td>11.889286</td>\n",
       "      <td>11.954286</td>\n",
       "      <td>11.918929</td>\n",
       "      <td>300428800.0</td>\n",
       "      <td>10.190899</td>\n",
       "      <td>6</td>\n",
       "      <td>1</td>\n",
       "      <td>2011</td>\n",
       "    </tr>\n",
       "  </tbody>\n",
       "</table>\n",
       "</div>"
      ],
      "text/plain": [
       "        Date       High        Low       Open      Close       Volume  \\\n",
       "0 2010-12-31  11.552857  11.475357  11.533929  11.520000  193508000.0   \n",
       "1 2011-01-03  11.795000  11.601429  11.630000  11.770357  445138400.0   \n",
       "2 2011-01-04  11.875000  11.719643  11.872857  11.831786  309080800.0   \n",
       "3 2011-01-05  11.940714  11.767857  11.769643  11.928571  255519600.0   \n",
       "4 2011-01-06  11.973214  11.889286  11.954286  11.918929  300428800.0   \n",
       "\n",
       "   Adj Close  day  month  year  \n",
       "0   9.849806   31     12  2010  \n",
       "1  10.063864    3      1  2011  \n",
       "2  10.116387    4      1  2011  \n",
       "3  10.199141    5      1  2011  \n",
       "4  10.190899    6      1  2011  "
      ]
     },
     "execution_count": 8,
     "metadata": {},
     "output_type": "execute_result"
    }
   ],
   "source": [
    "data.head()"
   ]
  },
  {
   "cell_type": "code",
   "execution_count": 9,
   "id": "88a9dc30",
   "metadata": {},
   "outputs": [
    {
     "data": {
      "text/html": [
       "<div>\n",
       "<style scoped>\n",
       "    .dataframe tbody tr th:only-of-type {\n",
       "        vertical-align: middle;\n",
       "    }\n",
       "\n",
       "    .dataframe tbody tr th {\n",
       "        vertical-align: top;\n",
       "    }\n",
       "\n",
       "    .dataframe thead th {\n",
       "        text-align: right;\n",
       "    }\n",
       "</style>\n",
       "<table border=\"1\" class=\"dataframe\">\n",
       "  <thead>\n",
       "    <tr style=\"text-align: right;\">\n",
       "      <th></th>\n",
       "      <th>Date</th>\n",
       "      <th>High</th>\n",
       "      <th>Low</th>\n",
       "      <th>Open</th>\n",
       "      <th>Close</th>\n",
       "      <th>Volume</th>\n",
       "      <th>Adj Close</th>\n",
       "      <th>day</th>\n",
       "      <th>month</th>\n",
       "      <th>year</th>\n",
       "      <th>ma100</th>\n",
       "    </tr>\n",
       "  </thead>\n",
       "  <tbody>\n",
       "    <tr>\n",
       "      <th>2888</th>\n",
       "      <td>2022-06-23</td>\n",
       "      <td>138.589996</td>\n",
       "      <td>135.630005</td>\n",
       "      <td>136.820007</td>\n",
       "      <td>138.270004</td>\n",
       "      <td>72433800.0</td>\n",
       "      <td>138.270004</td>\n",
       "      <td>23</td>\n",
       "      <td>6</td>\n",
       "      <td>2022</td>\n",
       "      <td>158.962101</td>\n",
       "    </tr>\n",
       "    <tr>\n",
       "      <th>2889</th>\n",
       "      <td>2022-06-24</td>\n",
       "      <td>141.910004</td>\n",
       "      <td>139.770004</td>\n",
       "      <td>139.899994</td>\n",
       "      <td>141.660004</td>\n",
       "      <td>89047400.0</td>\n",
       "      <td>141.660004</td>\n",
       "      <td>24</td>\n",
       "      <td>6</td>\n",
       "      <td>2022</td>\n",
       "      <td>158.630901</td>\n",
       "    </tr>\n",
       "    <tr>\n",
       "      <th>2890</th>\n",
       "      <td>2022-06-27</td>\n",
       "      <td>143.490005</td>\n",
       "      <td>140.970001</td>\n",
       "      <td>142.699997</td>\n",
       "      <td>141.660004</td>\n",
       "      <td>70207900.0</td>\n",
       "      <td>141.660004</td>\n",
       "      <td>27</td>\n",
       "      <td>6</td>\n",
       "      <td>2022</td>\n",
       "      <td>158.301401</td>\n",
       "    </tr>\n",
       "    <tr>\n",
       "      <th>2891</th>\n",
       "      <td>2022-06-28</td>\n",
       "      <td>143.419998</td>\n",
       "      <td>137.320007</td>\n",
       "      <td>142.130005</td>\n",
       "      <td>137.440002</td>\n",
       "      <td>67083400.0</td>\n",
       "      <td>137.440002</td>\n",
       "      <td>28</td>\n",
       "      <td>6</td>\n",
       "      <td>2022</td>\n",
       "      <td>157.917401</td>\n",
       "    </tr>\n",
       "    <tr>\n",
       "      <th>2892</th>\n",
       "      <td>2022-06-29</td>\n",
       "      <td>140.669998</td>\n",
       "      <td>136.669998</td>\n",
       "      <td>137.460007</td>\n",
       "      <td>139.229996</td>\n",
       "      <td>66177800.0</td>\n",
       "      <td>139.229996</td>\n",
       "      <td>29</td>\n",
       "      <td>6</td>\n",
       "      <td>2022</td>\n",
       "      <td>157.580701</td>\n",
       "    </tr>\n",
       "  </tbody>\n",
       "</table>\n",
       "</div>"
      ],
      "text/plain": [
       "           Date        High         Low        Open       Close      Volume  \\\n",
       "2888 2022-06-23  138.589996  135.630005  136.820007  138.270004  72433800.0   \n",
       "2889 2022-06-24  141.910004  139.770004  139.899994  141.660004  89047400.0   \n",
       "2890 2022-06-27  143.490005  140.970001  142.699997  141.660004  70207900.0   \n",
       "2891 2022-06-28  143.419998  137.320007  142.130005  137.440002  67083400.0   \n",
       "2892 2022-06-29  140.669998  136.669998  137.460007  139.229996  66177800.0   \n",
       "\n",
       "       Adj Close  day  month  year       ma100  \n",
       "2888  138.270004   23      6  2022  158.962101  \n",
       "2889  141.660004   24      6  2022  158.630901  \n",
       "2890  141.660004   27      6  2022  158.301401  \n",
       "2891  137.440002   28      6  2022  157.917401  \n",
       "2892  139.229996   29      6  2022  157.580701  "
      ]
     },
     "execution_count": 9,
     "metadata": {},
     "output_type": "execute_result"
    }
   ],
   "source": [
    "data['ma100'] = data.Close.rolling(100).mean()\n",
    "data.tail()"
   ]
  },
  {
   "cell_type": "code",
   "execution_count": 10,
   "id": "cd2651d9",
   "metadata": {},
   "outputs": [
    {
     "data": {
      "text/html": [
       "<div>\n",
       "<style scoped>\n",
       "    .dataframe tbody tr th:only-of-type {\n",
       "        vertical-align: middle;\n",
       "    }\n",
       "\n",
       "    .dataframe tbody tr th {\n",
       "        vertical-align: top;\n",
       "    }\n",
       "\n",
       "    .dataframe thead th {\n",
       "        text-align: right;\n",
       "    }\n",
       "</style>\n",
       "<table border=\"1\" class=\"dataframe\">\n",
       "  <thead>\n",
       "    <tr style=\"text-align: right;\">\n",
       "      <th></th>\n",
       "      <th>Date</th>\n",
       "      <th>High</th>\n",
       "      <th>Low</th>\n",
       "      <th>Open</th>\n",
       "      <th>Close</th>\n",
       "      <th>Volume</th>\n",
       "      <th>Adj Close</th>\n",
       "      <th>day</th>\n",
       "      <th>month</th>\n",
       "      <th>year</th>\n",
       "      <th>ma100</th>\n",
       "      <th>ma200</th>\n",
       "    </tr>\n",
       "  </thead>\n",
       "  <tbody>\n",
       "    <tr>\n",
       "      <th>2888</th>\n",
       "      <td>2022-06-23</td>\n",
       "      <td>138.589996</td>\n",
       "      <td>135.630005</td>\n",
       "      <td>136.820007</td>\n",
       "      <td>138.270004</td>\n",
       "      <td>72433800.0</td>\n",
       "      <td>138.270004</td>\n",
       "      <td>23</td>\n",
       "      <td>6</td>\n",
       "      <td>2022</td>\n",
       "      <td>158.962101</td>\n",
       "      <td>158.65155</td>\n",
       "    </tr>\n",
       "    <tr>\n",
       "      <th>2889</th>\n",
       "      <td>2022-06-24</td>\n",
       "      <td>141.910004</td>\n",
       "      <td>139.770004</td>\n",
       "      <td>139.899994</td>\n",
       "      <td>141.660004</td>\n",
       "      <td>89047400.0</td>\n",
       "      <td>141.660004</td>\n",
       "      <td>24</td>\n",
       "      <td>6</td>\n",
       "      <td>2022</td>\n",
       "      <td>158.630901</td>\n",
       "      <td>158.58430</td>\n",
       "    </tr>\n",
       "    <tr>\n",
       "      <th>2890</th>\n",
       "      <td>2022-06-27</td>\n",
       "      <td>143.490005</td>\n",
       "      <td>140.970001</td>\n",
       "      <td>142.699997</td>\n",
       "      <td>141.660004</td>\n",
       "      <td>70207900.0</td>\n",
       "      <td>141.660004</td>\n",
       "      <td>27</td>\n",
       "      <td>6</td>\n",
       "      <td>2022</td>\n",
       "      <td>158.301401</td>\n",
       "      <td>158.52225</td>\n",
       "    </tr>\n",
       "    <tr>\n",
       "      <th>2891</th>\n",
       "      <td>2022-06-28</td>\n",
       "      <td>143.419998</td>\n",
       "      <td>137.320007</td>\n",
       "      <td>142.130005</td>\n",
       "      <td>137.440002</td>\n",
       "      <td>67083400.0</td>\n",
       "      <td>137.440002</td>\n",
       "      <td>28</td>\n",
       "      <td>6</td>\n",
       "      <td>2022</td>\n",
       "      <td>157.917401</td>\n",
       "      <td>158.46460</td>\n",
       "    </tr>\n",
       "    <tr>\n",
       "      <th>2892</th>\n",
       "      <td>2022-06-29</td>\n",
       "      <td>140.669998</td>\n",
       "      <td>136.669998</td>\n",
       "      <td>137.460007</td>\n",
       "      <td>139.229996</td>\n",
       "      <td>66177800.0</td>\n",
       "      <td>139.229996</td>\n",
       "      <td>29</td>\n",
       "      <td>6</td>\n",
       "      <td>2022</td>\n",
       "      <td>157.580701</td>\n",
       "      <td>158.41300</td>\n",
       "    </tr>\n",
       "  </tbody>\n",
       "</table>\n",
       "</div>"
      ],
      "text/plain": [
       "           Date        High         Low        Open       Close      Volume  \\\n",
       "2888 2022-06-23  138.589996  135.630005  136.820007  138.270004  72433800.0   \n",
       "2889 2022-06-24  141.910004  139.770004  139.899994  141.660004  89047400.0   \n",
       "2890 2022-06-27  143.490005  140.970001  142.699997  141.660004  70207900.0   \n",
       "2891 2022-06-28  143.419998  137.320007  142.130005  137.440002  67083400.0   \n",
       "2892 2022-06-29  140.669998  136.669998  137.460007  139.229996  66177800.0   \n",
       "\n",
       "       Adj Close  day  month  year       ma100      ma200  \n",
       "2888  138.270004   23      6  2022  158.962101  158.65155  \n",
       "2889  141.660004   24      6  2022  158.630901  158.58430  \n",
       "2890  141.660004   27      6  2022  158.301401  158.52225  \n",
       "2891  137.440002   28      6  2022  157.917401  158.46460  \n",
       "2892  139.229996   29      6  2022  157.580701  158.41300  "
      ]
     },
     "execution_count": 10,
     "metadata": {},
     "output_type": "execute_result"
    }
   ],
   "source": [
    "data['ma200'] = data.Close.rolling(200).mean()\n",
    "data.tail()"
   ]
  },
  {
   "cell_type": "code",
   "execution_count": 11,
   "id": "604ad886",
   "metadata": {},
   "outputs": [],
   "source": [
    "data1['ma200'] = data1.Close.rolling(200).mean()\n",
    "data1['ma100'] = data1.Close.rolling(100).mean()"
   ]
  },
  {
   "cell_type": "code",
   "execution_count": 12,
   "id": "4576577d",
   "metadata": {},
   "outputs": [],
   "source": [
    "data1=data1.dropna()\n"
   ]
  },
  {
   "cell_type": "code",
   "execution_count": 13,
   "id": "460aafd4",
   "metadata": {},
   "outputs": [
    {
     "data": {
      "text/plain": [
       "[<matplotlib.lines.Line2D at 0x28d407e4af0>]"
      ]
     },
     "execution_count": 13,
     "metadata": {},
     "output_type": "execute_result"
    },
    {
     "data": {
      "image/png": "[encoded data removed]",
      "text/plain": [
       "<Figure size 864x432 with 1 Axes>"
      ]
     },
     "metadata": {
      "needs_background": "light"
     },
     "output_type": "display_data"
    }
   ],
   "source": [
    "plt.figure(figsize=(12, 6))\n",
    "plt.plot(data.Close)\n",
    "plt.plot(data['ma100'],'r')"
   ]
  },
  {
   "cell_type": "code",
   "execution_count": 14,
   "id": "20698fd1",
   "metadata": {},
   "outputs": [
    {
     "data": {
      "text/plain": [
       "[<matplotlib.lines.Line2D at 0x28d402f4e80>]"
      ]
     },
     "execution_count": 14,
     "metadata": {},
     "output_type": "execute_result"
    },
    {
     "data": {
      "image/png": "[encoded data removed]",
      "text/plain": [
       "<Figure size 864x432 with 1 Axes>"
      ]
     },
     "metadata": {
      "needs_background": "light"
     },
     "output_type": "display_data"
    }
   ],
   "source": [
    "plt.figure(figsize=(12, 6))\n",
    "plt.plot(data.Close)\n",
    "plt.plot(data['ma200'],'g')"
   ]
  },
  {
   "cell_type": "code",
   "execution_count": 15,
   "id": "0cca1c13",
   "metadata": {},
   "outputs": [
    {
     "data": {
      "text/plain": [
       "[<matplotlib.lines.Line2D at 0x28d4036aac0>]"
      ]
     },
     "execution_count": 15,
     "metadata": {},
     "output_type": "execute_result"
    },
    {
     "data": {
      "image/png": "[encoded data removed]",
      "text/plain": [
       "<Figure size 864x432 with 1 Axes>"
      ]
     },
     "metadata": {
      "needs_background": "light"
     },
     "output_type": "display_data"
    }
   ],
   "source": [
    "plt.figure(figsize=(12, 6))\n",
    "plt.plot(data.Close)\n",
    "plt.plot(data['ma200'],'g')\n",
    "plt.plot(data['ma100'],'r')"
   ]
  },
  {
   "cell_type": "code",
   "execution_count": 16,
   "id": "ccaec605",
   "metadata": {},
   "outputs": [
    {
     "name": "stdout",
     "output_type": "stream",
     "text": [
      "(2694, 12)\n"
     ]
    },
    {
     "data": {
      "text/html": [
       "<div>\n",
       "<style scoped>\n",
       "    .dataframe tbody tr th:only-of-type {\n",
       "        vertical-align: middle;\n",
       "    }\n",
       "\n",
       "    .dataframe tbody tr th {\n",
       "        vertical-align: top;\n",
       "    }\n",
       "\n",
       "    .dataframe thead th {\n",
       "        text-align: right;\n",
       "    }\n",
       "</style>\n",
       "<table border=\"1\" class=\"dataframe\">\n",
       "  <thead>\n",
       "    <tr style=\"text-align: right;\">\n",
       "      <th></th>\n",
       "      <th>Date</th>\n",
       "      <th>High</th>\n",
       "      <th>Low</th>\n",
       "      <th>Open</th>\n",
       "      <th>Close</th>\n",
       "      <th>Volume</th>\n",
       "      <th>Adj Close</th>\n",
       "      <th>day</th>\n",
       "      <th>month</th>\n",
       "      <th>year</th>\n",
       "      <th>ma100</th>\n",
       "      <th>ma200</th>\n",
       "    </tr>\n",
       "  </thead>\n",
       "  <tbody>\n",
       "    <tr>\n",
       "      <th>199</th>\n",
       "      <td>2011-10-14</td>\n",
       "      <td>15.071429</td>\n",
       "      <td>14.831071</td>\n",
       "      <td>14.886786</td>\n",
       "      <td>15.071429</td>\n",
       "      <td>5.733672e+08</td>\n",
       "      <td>12.886345</td>\n",
       "      <td>14</td>\n",
       "      <td>10</td>\n",
       "      <td>2011</td>\n",
       "      <td>13.174182</td>\n",
       "      <td>12.727036</td>\n",
       "    </tr>\n",
       "    <tr>\n",
       "      <th>200</th>\n",
       "      <td>2011-10-17</td>\n",
       "      <td>15.239286</td>\n",
       "      <td>14.855000</td>\n",
       "      <td>15.062143</td>\n",
       "      <td>14.999643</td>\n",
       "      <td>6.860448e+08</td>\n",
       "      <td>12.824963</td>\n",
       "      <td>17</td>\n",
       "      <td>10</td>\n",
       "      <td>2011</td>\n",
       "      <td>13.203900</td>\n",
       "      <td>12.744434</td>\n",
       "    </tr>\n",
       "    <tr>\n",
       "      <th>201</th>\n",
       "      <td>2011-10-18</td>\n",
       "      <td>15.171786</td>\n",
       "      <td>14.856786</td>\n",
       "      <td>15.062857</td>\n",
       "      <td>15.080000</td>\n",
       "      <td>8.816024e+08</td>\n",
       "      <td>12.893669</td>\n",
       "      <td>18</td>\n",
       "      <td>10</td>\n",
       "      <td>2011</td>\n",
       "      <td>13.235057</td>\n",
       "      <td>12.760982</td>\n",
       "    </tr>\n",
       "    <tr>\n",
       "      <th>202</th>\n",
       "      <td>2011-10-19</td>\n",
       "      <td>14.586429</td>\n",
       "      <td>14.207143</td>\n",
       "      <td>14.333929</td>\n",
       "      <td>14.236429</td>\n",
       "      <td>1.104060e+09</td>\n",
       "      <td>12.172401</td>\n",
       "      <td>19</td>\n",
       "      <td>10</td>\n",
       "      <td>2011</td>\n",
       "      <td>13.256918</td>\n",
       "      <td>12.773005</td>\n",
       "    </tr>\n",
       "    <tr>\n",
       "      <th>203</th>\n",
       "      <td>2011-10-20</td>\n",
       "      <td>14.298214</td>\n",
       "      <td>14.078929</td>\n",
       "      <td>14.285714</td>\n",
       "      <td>14.118214</td>\n",
       "      <td>5.492704e+08</td>\n",
       "      <td>12.071324</td>\n",
       "      <td>20</td>\n",
       "      <td>10</td>\n",
       "      <td>2011</td>\n",
       "      <td>13.273875</td>\n",
       "      <td>12.783954</td>\n",
       "    </tr>\n",
       "    <tr>\n",
       "      <th>...</th>\n",
       "      <td>...</td>\n",
       "      <td>...</td>\n",
       "      <td>...</td>\n",
       "      <td>...</td>\n",
       "      <td>...</td>\n",
       "      <td>...</td>\n",
       "      <td>...</td>\n",
       "      <td>...</td>\n",
       "      <td>...</td>\n",
       "      <td>...</td>\n",
       "      <td>...</td>\n",
       "      <td>...</td>\n",
       "    </tr>\n",
       "    <tr>\n",
       "      <th>294</th>\n",
       "      <td>2012-03-02</td>\n",
       "      <td>19.528570</td>\n",
       "      <td>19.375713</td>\n",
       "      <td>19.437143</td>\n",
       "      <td>19.470715</td>\n",
       "      <td>4.317124e+08</td>\n",
       "      <td>16.647808</td>\n",
       "      <td>2</td>\n",
       "      <td>3</td>\n",
       "      <td>2012</td>\n",
       "      <td>15.148071</td>\n",
       "      <td>14.100500</td>\n",
       "    </tr>\n",
       "    <tr>\n",
       "      <th>295</th>\n",
       "      <td>2012-03-05</td>\n",
       "      <td>19.552856</td>\n",
       "      <td>18.785713</td>\n",
       "      <td>19.479286</td>\n",
       "      <td>19.041430</td>\n",
       "      <td>8.091244e+08</td>\n",
       "      <td>16.280771</td>\n",
       "      <td>5</td>\n",
       "      <td>3</td>\n",
       "      <td>2012</td>\n",
       "      <td>15.199625</td>\n",
       "      <td>14.135016</td>\n",
       "    </tr>\n",
       "    <tr>\n",
       "      <th>296</th>\n",
       "      <td>2012-03-06</td>\n",
       "      <td>19.060356</td>\n",
       "      <td>18.436428</td>\n",
       "      <td>18.702143</td>\n",
       "      <td>18.937857</td>\n",
       "      <td>8.102388e+08</td>\n",
       "      <td>16.192209</td>\n",
       "      <td>6</td>\n",
       "      <td>3</td>\n",
       "      <td>2012</td>\n",
       "      <td>15.246043</td>\n",
       "      <td>14.168896</td>\n",
       "    </tr>\n",
       "    <tr>\n",
       "      <th>297</th>\n",
       "      <td>2012-03-07</td>\n",
       "      <td>19.206429</td>\n",
       "      <td>18.689285</td>\n",
       "      <td>19.171429</td>\n",
       "      <td>18.953215</td>\n",
       "      <td>7.985208e+08</td>\n",
       "      <td>16.205334</td>\n",
       "      <td>7</td>\n",
       "      <td>3</td>\n",
       "      <td>2012</td>\n",
       "      <td>15.291936</td>\n",
       "      <td>14.203802</td>\n",
       "    </tr>\n",
       "    <tr>\n",
       "      <th>298</th>\n",
       "      <td>2012-03-08</td>\n",
       "      <td>19.392500</td>\n",
       "      <td>19.004286</td>\n",
       "      <td>19.096071</td>\n",
       "      <td>19.356787</td>\n",
       "      <td>5.164572e+08</td>\n",
       "      <td>16.550402</td>\n",
       "      <td>8</td>\n",
       "      <td>3</td>\n",
       "      <td>2012</td>\n",
       "      <td>15.339636</td>\n",
       "      <td>14.240871</td>\n",
       "    </tr>\n",
       "  </tbody>\n",
       "</table>\n",
       "<p>100 rows × 12 columns</p>\n",
       "</div>"
      ],
      "text/plain": [
       "          Date       High        Low       Open      Close        Volume  \\\n",
       "199 2011-10-14  15.071429  14.831071  14.886786  15.071429  5.733672e+08   \n",
       "200 2011-10-17  15.239286  14.855000  15.062143  14.999643  6.860448e+08   \n",
       "201 2011-10-18  15.171786  14.856786  15.062857  15.080000  8.816024e+08   \n",
       "202 2011-10-19  14.586429  14.207143  14.333929  14.236429  1.104060e+09   \n",
       "203 2011-10-20  14.298214  14.078929  14.285714  14.118214  5.492704e+08   \n",
       "..         ...        ...        ...        ...        ...           ...   \n",
       "294 2012-03-02  19.528570  19.375713  19.437143  19.470715  4.317124e+08   \n",
       "295 2012-03-05  19.552856  18.785713  19.479286  19.041430  8.091244e+08   \n",
       "296 2012-03-06  19.060356  18.436428  18.702143  18.937857  8.102388e+08   \n",
       "297 2012-03-07  19.206429  18.689285  19.171429  18.953215  7.985208e+08   \n",
       "298 2012-03-08  19.392500  19.004286  19.096071  19.356787  5.164572e+08   \n",
       "\n",
       "     Adj Close  day  month  year      ma100      ma200  \n",
       "199  12.886345   14     10  2011  13.174182  12.727036  \n",
       "200  12.824963   17     10  2011  13.203900  12.744434  \n",
       "201  12.893669   18     10  2011  13.235057  12.760982  \n",
       "202  12.172401   19     10  2011  13.256918  12.773005  \n",
       "203  12.071324   20     10  2011  13.273875  12.783954  \n",
       "..         ...  ...    ...   ...        ...        ...  \n",
       "294  16.647808    2      3  2012  15.148071  14.100500  \n",
       "295  16.280771    5      3  2012  15.199625  14.135016  \n",
       "296  16.192209    6      3  2012  15.246043  14.168896  \n",
       "297  16.205334    7      3  2012  15.291936  14.203802  \n",
       "298  16.550402    8      3  2012  15.339636  14.240871  \n",
       "\n",
       "[100 rows x 12 columns]"
      ]
     },
     "execution_count": 16,
     "metadata": {},
     "output_type": "execute_result"
    }
   ],
   "source": [
    "data=data.dropna()\n",
    "print(data.shape)\n",
    "data.head(100)"
   ]
  },
  {
   "cell_type": "code",
   "execution_count": 17,
   "id": "07edb760",
   "metadata": {},
   "outputs": [
    {
     "data": {
      "text/plain": [
       "199    2011-10-14\n",
       "200    2011-10-17\n",
       "201    2011-10-18\n",
       "202    2011-10-19\n",
       "203    2011-10-20\n",
       "          ...    \n",
       "2888   2022-06-23\n",
       "2889   2022-06-24\n",
       "2890   2022-06-27\n",
       "2891   2022-06-28\n",
       "2892   2022-06-29\n",
       "Name: Date, Length: 2694, dtype: datetime64[ns]"
      ]
     },
     "execution_count": 17,
     "metadata": {},
     "output_type": "execute_result"
    }
   ],
   "source": [
    "Index=data.Date\n",
    "Index"
   ]
  },
  {
   "cell_type": "code",
   "execution_count": 18,
   "id": "113813fa",
   "metadata": {},
   "outputs": [
    {
     "data": {
      "text/html": [
       "<div>\n",
       "<style scoped>\n",
       "    .dataframe tbody tr th:only-of-type {\n",
       "        vertical-align: middle;\n",
       "    }\n",
       "\n",
       "    .dataframe tbody tr th {\n",
       "        vertical-align: top;\n",
       "    }\n",
       "\n",
       "    .dataframe thead th {\n",
       "        text-align: right;\n",
       "    }\n",
       "</style>\n",
       "<table border=\"1\" class=\"dataframe\">\n",
       "  <thead>\n",
       "    <tr style=\"text-align: right;\">\n",
       "      <th></th>\n",
       "      <th>day</th>\n",
       "      <th>month</th>\n",
       "      <th>year</th>\n",
       "      <th>ma100</th>\n",
       "      <th>ma200</th>\n",
       "    </tr>\n",
       "  </thead>\n",
       "  <tbody>\n",
       "    <tr>\n",
       "      <th>199</th>\n",
       "      <td>14</td>\n",
       "      <td>10</td>\n",
       "      <td>2011</td>\n",
       "      <td>13.174182</td>\n",
       "      <td>12.727036</td>\n",
       "    </tr>\n",
       "    <tr>\n",
       "      <th>200</th>\n",
       "      <td>17</td>\n",
       "      <td>10</td>\n",
       "      <td>2011</td>\n",
       "      <td>13.203900</td>\n",
       "      <td>12.744434</td>\n",
       "    </tr>\n",
       "    <tr>\n",
       "      <th>201</th>\n",
       "      <td>18</td>\n",
       "      <td>10</td>\n",
       "      <td>2011</td>\n",
       "      <td>13.235057</td>\n",
       "      <td>12.760982</td>\n",
       "    </tr>\n",
       "    <tr>\n",
       "      <th>202</th>\n",
       "      <td>19</td>\n",
       "      <td>10</td>\n",
       "      <td>2011</td>\n",
       "      <td>13.256918</td>\n",
       "      <td>12.773005</td>\n",
       "    </tr>\n",
       "    <tr>\n",
       "      <th>203</th>\n",
       "      <td>20</td>\n",
       "      <td>10</td>\n",
       "      <td>2011</td>\n",
       "      <td>13.273875</td>\n",
       "      <td>12.783954</td>\n",
       "    </tr>\n",
       "    <tr>\n",
       "      <th>...</th>\n",
       "      <td>...</td>\n",
       "      <td>...</td>\n",
       "      <td>...</td>\n",
       "      <td>...</td>\n",
       "      <td>...</td>\n",
       "    </tr>\n",
       "    <tr>\n",
       "      <th>2888</th>\n",
       "      <td>23</td>\n",
       "      <td>6</td>\n",
       "      <td>2022</td>\n",
       "      <td>158.962101</td>\n",
       "      <td>158.651550</td>\n",
       "    </tr>\n",
       "    <tr>\n",
       "      <th>2889</th>\n",
       "      <td>24</td>\n",
       "      <td>6</td>\n",
       "      <td>2022</td>\n",
       "      <td>158.630901</td>\n",
       "      <td>158.584300</td>\n",
       "    </tr>\n",
       "    <tr>\n",
       "      <th>2890</th>\n",
       "      <td>27</td>\n",
       "      <td>6</td>\n",
       "      <td>2022</td>\n",
       "      <td>158.301401</td>\n",
       "      <td>158.522250</td>\n",
       "    </tr>\n",
       "    <tr>\n",
       "      <th>2891</th>\n",
       "      <td>28</td>\n",
       "      <td>6</td>\n",
       "      <td>2022</td>\n",
       "      <td>157.917401</td>\n",
       "      <td>158.464600</td>\n",
       "    </tr>\n",
       "    <tr>\n",
       "      <th>2892</th>\n",
       "      <td>29</td>\n",
       "      <td>6</td>\n",
       "      <td>2022</td>\n",
       "      <td>157.580701</td>\n",
       "      <td>158.413000</td>\n",
       "    </tr>\n",
       "  </tbody>\n",
       "</table>\n",
       "<p>2694 rows × 5 columns</p>\n",
       "</div>"
      ],
      "text/plain": [
       "      day  month  year       ma100       ma200\n",
       "199    14     10  2011   13.174182   12.727036\n",
       "200    17     10  2011   13.203900   12.744434\n",
       "201    18     10  2011   13.235057   12.760982\n",
       "202    19     10  2011   13.256918   12.773005\n",
       "203    20     10  2011   13.273875   12.783954\n",
       "...   ...    ...   ...         ...         ...\n",
       "2888   23      6  2022  158.962101  158.651550\n",
       "2889   24      6  2022  158.630901  158.584300\n",
       "2890   27      6  2022  158.301401  158.522250\n",
       "2891   28      6  2022  157.917401  158.464600\n",
       "2892   29      6  2022  157.580701  158.413000\n",
       "\n",
       "[2694 rows x 5 columns]"
      ]
     },
     "execution_count": 18,
     "metadata": {},
     "output_type": "execute_result"
    }
   ],
   "source": [
    "X=data[['day','month','year','ma100','ma200']]\n",
    "X"
   ]
  },
  {
   "cell_type": "code",
   "execution_count": 19,
   "id": "f800155f",
   "metadata": {},
   "outputs": [],
   "source": [
    "y=data['Close']"
   ]
  },
  {
   "cell_type": "code",
   "execution_count": 20,
   "id": "00e96229",
   "metadata": {},
   "outputs": [
    {
     "data": {
      "text/plain": [
       "(2694, 5)"
      ]
     },
     "execution_count": 20,
     "metadata": {},
     "output_type": "execute_result"
    }
   ],
   "source": [
    "X.shape"
   ]
  },
  {
   "cell_type": "code",
   "execution_count": 21,
   "id": "0726656b",
   "metadata": {},
   "outputs": [],
   "source": [
    "X=X.dropna()"
   ]
  },
  {
   "cell_type": "code",
   "execution_count": 22,
   "id": "a8e98026",
   "metadata": {},
   "outputs": [
    {
     "data": {
      "text/plain": [
       "(2694, 5)"
      ]
     },
     "execution_count": 22,
     "metadata": {},
     "output_type": "execute_result"
    }
   ],
   "source": [
    "X.shape"
   ]
  },
  {
   "cell_type": "code",
   "execution_count": 23,
   "id": "59f01713",
   "metadata": {},
   "outputs": [
    {
     "data": {
      "text/html": [
       "<div>\n",
       "<style scoped>\n",
       "    .dataframe tbody tr th:only-of-type {\n",
       "        vertical-align: middle;\n",
       "    }\n",
       "\n",
       "    .dataframe tbody tr th {\n",
       "        vertical-align: top;\n",
       "    }\n",
       "\n",
       "    .dataframe thead th {\n",
       "        text-align: right;\n",
       "    }\n",
       "</style>\n",
       "<table border=\"1\" class=\"dataframe\">\n",
       "  <thead>\n",
       "    <tr style=\"text-align: right;\">\n",
       "      <th></th>\n",
       "      <th>day</th>\n",
       "      <th>month</th>\n",
       "      <th>year</th>\n",
       "      <th>ma100</th>\n",
       "      <th>ma200</th>\n",
       "    </tr>\n",
       "  </thead>\n",
       "  <tbody>\n",
       "    <tr>\n",
       "      <th>199</th>\n",
       "      <td>14</td>\n",
       "      <td>10</td>\n",
       "      <td>2011</td>\n",
       "      <td>13.174182</td>\n",
       "      <td>12.727036</td>\n",
       "    </tr>\n",
       "    <tr>\n",
       "      <th>200</th>\n",
       "      <td>17</td>\n",
       "      <td>10</td>\n",
       "      <td>2011</td>\n",
       "      <td>13.203900</td>\n",
       "      <td>12.744434</td>\n",
       "    </tr>\n",
       "    <tr>\n",
       "      <th>201</th>\n",
       "      <td>18</td>\n",
       "      <td>10</td>\n",
       "      <td>2011</td>\n",
       "      <td>13.235057</td>\n",
       "      <td>12.760982</td>\n",
       "    </tr>\n",
       "    <tr>\n",
       "      <th>202</th>\n",
       "      <td>19</td>\n",
       "      <td>10</td>\n",
       "      <td>2011</td>\n",
       "      <td>13.256918</td>\n",
       "      <td>12.773005</td>\n",
       "    </tr>\n",
       "    <tr>\n",
       "      <th>203</th>\n",
       "      <td>20</td>\n",
       "      <td>10</td>\n",
       "      <td>2011</td>\n",
       "      <td>13.273875</td>\n",
       "      <td>12.783954</td>\n",
       "    </tr>\n",
       "  </tbody>\n",
       "</table>\n",
       "</div>"
      ],
      "text/plain": [
       "     day  month  year      ma100      ma200\n",
       "199   14     10  2011  13.174182  12.727036\n",
       "200   17     10  2011  13.203900  12.744434\n",
       "201   18     10  2011  13.235057  12.760982\n",
       "202   19     10  2011  13.256918  12.773005\n",
       "203   20     10  2011  13.273875  12.783954"
      ]
     },
     "execution_count": 23,
     "metadata": {},
     "output_type": "execute_result"
    }
   ],
   "source": [
    "X.head()"
   ]
  },
  {
   "cell_type": "code",
   "execution_count": 24,
   "id": "6113af86",
   "metadata": {},
   "outputs": [],
   "source": [
    "from sklearn.model_selection import train_test_split\n",
    "X_train,X_test,y_train,y_test=train_test_split(X,y,test_size=0.3,random_state=1)"
   ]
  },
  {
   "cell_type": "code",
   "execution_count": 25,
   "id": "477fec57",
   "metadata": {},
   "outputs": [
    {
     "name": "stdout",
     "output_type": "stream",
     "text": [
      "      day  month  year      ma100      ma200\n",
      "1948   27      9  2018  50.121175  46.571475\n",
      "877    27      6  2014  20.385186  19.532836\n",
      "314    30      3  2012  16.415564  14.974739\n",
      "1902   24      7  2018  45.337825  43.828200\n",
      "2104   14      5  2019  44.552100  48.115338\n"
     ]
    },
    {
     "data": {
      "text/plain": [
       "1948    56.237499\n",
       "877     22.995001\n",
       "314     21.412500\n",
       "1902    48.250000\n",
       "2104    47.165001\n",
       "Name: Close, dtype: float64"
      ]
     },
     "execution_count": 25,
     "metadata": {},
     "output_type": "execute_result"
    }
   ],
   "source": [
    "print(X_train.head())\n",
    "y_train.head()"
   ]
  },
  {
   "cell_type": "code",
   "execution_count": 26,
   "id": "ccdd5c31",
   "metadata": {},
   "outputs": [
    {
     "name": "stdout",
     "output_type": "stream",
     "text": [
      "      day  month  year       ma100       ma200\n",
      "2802   17      2  2022  161.802100  150.912600\n",
      "1976    6     11  2018   52.225225   48.144438\n",
      "628     2      7  2013   15.582893   17.936045\n",
      "1689   18      9  2017   38.197475   35.342037\n",
      "1835   18      4  2018   43.060725   41.317538\n"
     ]
    },
    {
     "data": {
      "text/plain": [
       "2802    168.880005\n",
       "1976     50.942501\n",
       "628      14.946071\n",
       "1689     39.667500\n",
       "1835     44.459999\n",
       "Name: Close, dtype: float64"
      ]
     },
     "execution_count": 26,
     "metadata": {},
     "output_type": "execute_result"
    }
   ],
   "source": [
    "print(X_test.head())\n",
    "y_test.head()"
   ]
  },
  {
   "cell_type": "code",
   "execution_count": 27,
   "id": "6b08d944",
   "metadata": {},
   "outputs": [],
   "source": [
    "from sklearn.linear_model import LinearRegression\n",
    "Model = LinearRegression().fit(X_train,y_train)"
   ]
  },
  {
   "cell_type": "code",
   "execution_count": 28,
   "id": "10a3d0a4",
   "metadata": {},
   "outputs": [
    {
     "name": "stdout",
     "output_type": "stream",
     "text": [
      "0.980258191703794\n"
     ]
    }
   ],
   "source": [
    "print(Model.score(X_test,y_test))\n"
   ]
  },
  {
   "cell_type": "code",
   "execution_count": 29,
   "id": "6fdab0f2",
   "metadata": {},
   "outputs": [
    {
     "data": {
      "text/plain": [
       "array([-0.01516962,  0.24649641,  0.74233622,  1.61321196, -0.66912156])"
      ]
     },
     "execution_count": 29,
     "metadata": {},
     "output_type": "execute_result"
    }
   ],
   "source": [
    "Model.coef_"
   ]
  },
  {
   "cell_type": "code",
   "execution_count": 30,
   "id": "7dbda350",
   "metadata": {},
   "outputs": [
    {
     "data": {
      "text/plain": [
       "-1494.843240338421"
      ]
     },
     "execution_count": 30,
     "metadata": {},
     "output_type": "execute_result"
    }
   ],
   "source": [
    "Model.intercept_"
   ]
  },
  {
   "cell_type": "code",
   "execution_count": 31,
   "id": "15e8e91c",
   "metadata": {},
   "outputs": [
    {
     "name": "stdout",
     "output_type": "stream",
     "text": [
      "[ 12.98430431  12.97509514  12.99911582 ... 156.53305532 155.93698725\n",
      " 155.41317589]\n",
      "               0\n",
      "0      12.984304\n",
      "1      12.975095\n",
      "2      12.999116\n",
      "3      13.011167\n",
      "4      13.016027\n",
      "...          ...\n",
      "2689  157.573065\n",
      "2690  157.068598\n",
      "2691  156.533055\n",
      "2692  155.936987\n",
      "2693  155.413176\n",
      "\n",
      "[2694 rows x 1 columns]\n"
     ]
    }
   ],
   "source": [
    "print(Model.predict(X))\n",
    "output = pd.DataFrame(Model.predict(X))\n",
    "print(output)\n",
    "\n"
   ]
  },
  {
   "cell_type": "code",
   "execution_count": 32,
   "id": "ec43cfc9",
   "metadata": {},
   "outputs": [],
   "source": [
    "y.index=Index\n"
   ]
  },
  {
   "cell_type": "code",
   "execution_count": 33,
   "id": "16e3ef23",
   "metadata": {},
   "outputs": [
    {
     "data": {
      "text/html": [
       "<div>\n",
       "<style scoped>\n",
       "    .dataframe tbody tr th:only-of-type {\n",
       "        vertical-align: middle;\n",
       "    }\n",
       "\n",
       "    .dataframe tbody tr th {\n",
       "        vertical-align: top;\n",
       "    }\n",
       "\n",
       "    .dataframe thead th {\n",
       "        text-align: right;\n",
       "    }\n",
       "</style>\n",
       "<table border=\"1\" class=\"dataframe\">\n",
       "  <thead>\n",
       "    <tr style=\"text-align: right;\">\n",
       "      <th></th>\n",
       "      <th>0</th>\n",
       "    </tr>\n",
       "    <tr>\n",
       "      <th>Date</th>\n",
       "      <th></th>\n",
       "    </tr>\n",
       "  </thead>\n",
       "  <tbody>\n",
       "    <tr>\n",
       "      <th>2011-10-14</th>\n",
       "      <td>12.984304</td>\n",
       "    </tr>\n",
       "    <tr>\n",
       "      <th>2011-10-17</th>\n",
       "      <td>12.975095</td>\n",
       "    </tr>\n",
       "    <tr>\n",
       "      <th>2011-10-18</th>\n",
       "      <td>12.999116</td>\n",
       "    </tr>\n",
       "    <tr>\n",
       "      <th>2011-10-19</th>\n",
       "      <td>13.011167</td>\n",
       "    </tr>\n",
       "    <tr>\n",
       "      <th>2011-10-20</th>\n",
       "      <td>13.016027</td>\n",
       "    </tr>\n",
       "    <tr>\n",
       "      <th>...</th>\n",
       "      <td>...</td>\n",
       "    </tr>\n",
       "    <tr>\n",
       "      <th>2022-06-23</th>\n",
       "      <td>157.573065</td>\n",
       "    </tr>\n",
       "    <tr>\n",
       "      <th>2022-06-24</th>\n",
       "      <td>157.068598</td>\n",
       "    </tr>\n",
       "    <tr>\n",
       "      <th>2022-06-27</th>\n",
       "      <td>156.533055</td>\n",
       "    </tr>\n",
       "    <tr>\n",
       "      <th>2022-06-28</th>\n",
       "      <td>155.936987</td>\n",
       "    </tr>\n",
       "    <tr>\n",
       "      <th>2022-06-29</th>\n",
       "      <td>155.413176</td>\n",
       "    </tr>\n",
       "  </tbody>\n",
       "</table>\n",
       "<p>2694 rows × 1 columns</p>\n",
       "</div>"
      ],
      "text/plain": [
       "                     0\n",
       "Date                  \n",
       "2011-10-14   12.984304\n",
       "2011-10-17   12.975095\n",
       "2011-10-18   12.999116\n",
       "2011-10-19   13.011167\n",
       "2011-10-20   13.016027\n",
       "...                ...\n",
       "2022-06-23  157.573065\n",
       "2022-06-24  157.068598\n",
       "2022-06-27  156.533055\n",
       "2022-06-28  155.936987\n",
       "2022-06-29  155.413176\n",
       "\n",
       "[2694 rows x 1 columns]"
      ]
     },
     "execution_count": 33,
     "metadata": {},
     "output_type": "execute_result"
    }
   ],
   "source": [
    "output.index=Index\n",
    "output"
   ]
  },
  {
   "cell_type": "code",
   "execution_count": 34,
   "id": "8bdb5bea",
   "metadata": {},
   "outputs": [
    {
     "data": {
      "text/plain": [
       "Text(0, 0.5, 'Predicted')"
      ]
     },
     "execution_count": 34,
     "metadata": {},
     "output_type": "execute_result"
    },
    {
     "data": {
      "image/png": "[encoded data removed]",
      "text/plain": [
       "<Figure size 864x432 with 1 Axes>"
      ]
     },
     "metadata": {
      "needs_background": "light"
     },
     "output_type": "display_data"
    }
   ],
   "source": [
    "plt.figure(figsize= (12,6))\n",
    "plt.scatter(y,output)\n",
    "plt.xlabel('Actual')\n",
    "plt.ylabel('Predicted')"
   ]
  },
  {
   "cell_type": "code",
   "execution_count": 35,
   "id": "04efc8c6",
   "metadata": {},
   "outputs": [
    {
     "data": {
      "text/plain": [
       "Text(0, 0.5, 'Predicted')"
      ]
     },
     "execution_count": 35,
     "metadata": {},
     "output_type": "execute_result"
    },
    {
     "data": {
      "image/png": "[encoded data removed]",
      "text/plain": [
       "<Figure size 842.4x595.44 with 1 Axes>"
      ]
     },
     "metadata": {},
     "output_type": "display_data"
    }
   ],
   "source": [
    "import seaborn as sns\n",
    "sns.set(rc={'figure.figsize':(11.7,8.27)})\n",
    "p=sns.regplot(x=y,y=output,ci=None,color ='b');\n",
    "p.set_xlabel(\"Actual\")\n",
    "p.set_ylabel(\"Predicted\")"
   ]
  },
  {
   "cell_type": "code",
   "execution_count": 36,
   "id": "b3242628",
   "metadata": {},
   "outputs": [
    {
     "data": {
      "text/plain": [
       "(2694, 12)"
      ]
     },
     "execution_count": 36,
     "metadata": {},
     "output_type": "execute_result"
    }
   ],
   "source": [
    "data1=data1.dropna()\n",
    "Index1=data1.Date\n",
    "data1.shape"
   ]
  },
  {
   "cell_type": "code",
   "execution_count": 37,
   "id": "aa74b1c0",
   "metadata": {},
   "outputs": [
    {
     "name": "stdout",
     "output_type": "stream",
     "text": [
      "               0\n",
      "0      24.249173\n",
      "1      24.251784\n",
      "2      24.281445\n",
      "3      24.307720\n",
      "4      24.328511\n",
      "...          ...\n",
      "2689  263.409497\n",
      "2690  262.804895\n",
      "2691  262.159934\n",
      "2692  261.356804\n",
      "2693  260.803264\n",
      "\n",
      "[2694 rows x 1 columns]\n",
      "          Date       High        Low       Open      Close      Volume  \\\n",
      "199 2011-10-14  27.500000  27.020000  27.309999  27.270000  50947700.0   \n",
      "200 2011-10-17  27.420000  26.850000  27.110001  26.980000  39453300.0   \n",
      "201 2011-10-18  27.400000  26.799999  26.940001  27.309999  52487900.0   \n",
      "202 2011-10-19  27.469999  27.010000  27.370001  27.129999  42880000.0   \n",
      "203 2011-10-20  27.340000  26.400000  27.260000  27.040001  76300200.0   \n",
      "\n",
      "     Adj Close  day  month  year     ma200    ma100  \n",
      "199  21.811577   14     10  2011  26.06830  25.6907  \n",
      "200  21.579622   17     10  2011  26.06365  25.7186  \n",
      "201  21.843567   18     10  2011  26.06030  25.7450  \n",
      "202  21.699604   19     10  2011  26.05550  25.7687  \n",
      "203  21.627613   20     10  2011  26.05070  25.7890  \n"
     ]
    }
   ],
   "source": [
    "output = pd.DataFrame(Model.predict(data1[['day','month','year','ma100','ma200']]))\n",
    "print(output)\n",
    "print(data1.head())"
   ]
  },
  {
   "cell_type": "code",
   "execution_count": 38,
   "id": "e749e21e",
   "metadata": {},
   "outputs": [
    {
     "data": {
      "text/plain": [
       "[<matplotlib.lines.Line2D at 0x28d4379e5e0>]"
      ]
     },
     "execution_count": 38,
     "metadata": {},
     "output_type": "execute_result"
    },
    {
     "data": {
      "image/png": "[encoded data removed]",
      "text/plain": [
       "<Figure size 864x432 with 1 Axes>"
      ]
     },
     "metadata": {},
     "output_type": "display_data"
    }
   ],
   "source": [
    "plt.figure(figsize= (12,6))\n",
    "plt.plot(data1.Close, 'b' ,label= 'Original Price')\n",
    "plt.plot(data1['ma100'])\n",
    "plt.plot(data1['ma200'])"
   ]
  },
  {
   "cell_type": "code",
   "execution_count": 39,
   "id": "c6c7d65c",
   "metadata": {},
   "outputs": [
    {
     "data": {
      "text/plain": [
       "[<matplotlib.lines.Line2D at 0x28d43459700>]"
      ]
     },
     "execution_count": 39,
     "metadata": {},
     "output_type": "execute_result"
    },
    {
     "data": {
      "image/png": "[encoded data removed]",
      "text/plain": [
       "<Figure size 864x432 with 1 Axes>"
      ]
     },
     "metadata": {},
     "output_type": "display_data"
    }
   ],
   "source": [
    "output.index=Index1\n",
    "data1.index=Index1\n",
    "plt.figure(figsize= (12,6))\n",
    "plt.plot(output, 'r' ,label= 'Predicted Price')\n",
    "plt.plot(data1.Close, 'b' ,label= 'Original Price')"
   ]
  },
  {
   "cell_type": "code",
   "execution_count": 45,
   "id": "8802b511",
   "metadata": {},
   "outputs": [
    {
     "data": {
      "text/plain": [
       "Text(0, 0.5, 'Predicted')"
      ]
     },
     "execution_count": 45,
     "metadata": {},
     "output_type": "execute_result"
    },
    {
     "data": {
      "image/png": "[encoded data removed]",
      "text/plain": [
       "<Figure size 842.4x595.44 with 1 Axes>"
      ]
     },
     "metadata": {},
     "output_type": "display_data"
    }
   ],
   "source": [
    "plt.figure(figsize= (11.7,8.27))\n",
    "plt.scatter(data1.Close,output)\n",
    "plt.xlabel('Actual')\n",
    "plt.ylabel('Predicted')"
   ]
  },
  {
   "cell_type": "code",
   "execution_count": 41,
   "id": "d6e78da0",
   "metadata": {},
   "outputs": [
    {
     "data": {
      "text/plain": [
       "Text(0.5, 0, 'Actual')"
      ]
     },
     "execution_count": 41,
     "metadata": {},
     "output_type": "execute_result"
    },
    {
     "data": {
      "image/png": "[encoded data removed]",
      "text/plain": [
       "<Figure size 842.4x595.44 with 1 Axes>"
      ]
     },
     "metadata": {},
     "output_type": "display_data"
    }
   ],
   "source": [
    "sns.set(rc={'figure.figsize':(11.7,8.27)})\n",
    "p=sns.regplot(x=data1.Close,y=output,ci=None,color ='b')\n",
    "p.set_ylabel(\"Predicted\")\n",
    "p.set_xlabel(\"Actual\")"
   ]
  },
  {
   "cell_type": "code",
   "execution_count": 42,
   "id": "4b1cd339",
   "metadata": {},
   "outputs": [
    {
     "data": {
      "text/html": [
       "<div>\n",
       "<style scoped>\n",
       "    .dataframe tbody tr th:only-of-type {\n",
       "        vertical-align: middle;\n",
       "    }\n",
       "\n",
       "    .dataframe tbody tr th {\n",
       "        vertical-align: top;\n",
       "    }\n",
       "\n",
       "    .dataframe thead th {\n",
       "        text-align: right;\n",
       "    }\n",
       "</style>\n",
       "<table border=\"1\" class=\"dataframe\">\n",
       "  <thead>\n",
       "    <tr style=\"text-align: right;\">\n",
       "      <th></th>\n",
       "      <th>Date</th>\n",
       "      <th>High</th>\n",
       "      <th>Low</th>\n",
       "      <th>Open</th>\n",
       "      <th>Close</th>\n",
       "      <th>Volume</th>\n",
       "      <th>Adj Close</th>\n",
       "      <th>day</th>\n",
       "      <th>month</th>\n",
       "      <th>year</th>\n",
       "      <th>ma200</th>\n",
       "      <th>ma100</th>\n",
       "    </tr>\n",
       "    <tr>\n",
       "      <th>Date</th>\n",
       "      <th></th>\n",
       "      <th></th>\n",
       "      <th></th>\n",
       "      <th></th>\n",
       "      <th></th>\n",
       "      <th></th>\n",
       "      <th></th>\n",
       "      <th></th>\n",
       "      <th></th>\n",
       "      <th></th>\n",
       "      <th></th>\n",
       "      <th></th>\n",
       "    </tr>\n",
       "  </thead>\n",
       "  <tbody>\n",
       "    <tr>\n",
       "      <th>2022-06-23</th>\n",
       "      <td>2022-06-23</td>\n",
       "      <td>259.369995</td>\n",
       "      <td>253.630005</td>\n",
       "      <td>255.570007</td>\n",
       "      <td>258.859985</td>\n",
       "      <td>25861400.0</td>\n",
       "      <td>258.859985</td>\n",
       "      <td>23</td>\n",
       "      <td>6</td>\n",
       "      <td>2022</td>\n",
       "      <td>299.76645</td>\n",
       "      <td>283.0992</td>\n",
       "    </tr>\n",
       "    <tr>\n",
       "      <th>2022-06-24</th>\n",
       "      <td>2022-06-24</td>\n",
       "      <td>267.980011</td>\n",
       "      <td>261.720001</td>\n",
       "      <td>261.809998</td>\n",
       "      <td>267.700012</td>\n",
       "      <td>33900700.0</td>\n",
       "      <td>267.700012</td>\n",
       "      <td>24</td>\n",
       "      <td>6</td>\n",
       "      <td>2022</td>\n",
       "      <td>299.60390</td>\n",
       "      <td>282.6664</td>\n",
       "    </tr>\n",
       "    <tr>\n",
       "      <th>2022-06-27</th>\n",
       "      <td>2022-06-27</td>\n",
       "      <td>268.299988</td>\n",
       "      <td>263.279999</td>\n",
       "      <td>268.209991</td>\n",
       "      <td>264.890015</td>\n",
       "      <td>24615100.0</td>\n",
       "      <td>264.890015</td>\n",
       "      <td>27</td>\n",
       "      <td>6</td>\n",
       "      <td>2022</td>\n",
       "      <td>299.44210</td>\n",
       "      <td>282.2277</td>\n",
       "    </tr>\n",
       "    <tr>\n",
       "      <th>2022-06-28</th>\n",
       "      <td>2022-06-28</td>\n",
       "      <td>266.910004</td>\n",
       "      <td>256.320007</td>\n",
       "      <td>263.980011</td>\n",
       "      <td>256.480011</td>\n",
       "      <td>27295500.0</td>\n",
       "      <td>256.480011</td>\n",
       "      <td>28</td>\n",
       "      <td>6</td>\n",
       "      <td>2022</td>\n",
       "      <td>299.24595</td>\n",
       "      <td>281.6579</td>\n",
       "    </tr>\n",
       "    <tr>\n",
       "      <th>2022-06-29</th>\n",
       "      <td>2022-06-29</td>\n",
       "      <td>261.970001</td>\n",
       "      <td>255.759995</td>\n",
       "      <td>257.589996</td>\n",
       "      <td>260.260010</td>\n",
       "      <td>20042400.0</td>\n",
       "      <td>260.260010</td>\n",
       "      <td>29</td>\n",
       "      <td>6</td>\n",
       "      <td>2022</td>\n",
       "      <td>299.06230</td>\n",
       "      <td>281.2480</td>\n",
       "    </tr>\n",
       "  </tbody>\n",
       "</table>\n",
       "</div>"
      ],
      "text/plain": [
       "                 Date        High         Low        Open       Close  \\\n",
       "Date                                                                    \n",
       "2022-06-23 2022-06-23  259.369995  253.630005  255.570007  258.859985   \n",
       "2022-06-24 2022-06-24  267.980011  261.720001  261.809998  267.700012   \n",
       "2022-06-27 2022-06-27  268.299988  263.279999  268.209991  264.890015   \n",
       "2022-06-28 2022-06-28  266.910004  256.320007  263.980011  256.480011   \n",
       "2022-06-29 2022-06-29  261.970001  255.759995  257.589996  260.260010   \n",
       "\n",
       "                Volume   Adj Close  day  month  year      ma200     ma100  \n",
       "Date                                                                       \n",
       "2022-06-23  25861400.0  258.859985   23      6  2022  299.76645  283.0992  \n",
       "2022-06-24  33900700.0  267.700012   24      6  2022  299.60390  282.6664  \n",
       "2022-06-27  24615100.0  264.890015   27      6  2022  299.44210  282.2277  \n",
       "2022-06-28  27295500.0  256.480011   28      6  2022  299.24595  281.6579  \n",
       "2022-06-29  20042400.0  260.260010   29      6  2022  299.06230  281.2480  "
      ]
     },
     "execution_count": 42,
     "metadata": {},
     "output_type": "execute_result"
    }
   ],
   "source": [
    "data1.tail()"
   ]
  },
  {
   "cell_type": "markdown",
   "id": "94fde563",
   "metadata": {},
   "source": [
    "### Share Price Prediction for tommorow"
   ]
  },
  {
   "cell_type": "code",
   "execution_count": 43,
   "id": "3f56c001",
   "metadata": {},
   "outputs": [
    {
     "name": "stdout",
     "output_type": "stream",
     "text": [
      "2022-07-01\n"
     ]
    }
   ],
   "source": [
    "day=date.today()+timedelta(1)\n",
    "print(day)"
   ]
  },
  {
   "cell_type": "code",
   "execution_count": 44,
   "id": "11615e70",
   "metadata": {},
   "outputs": [
    {
     "name": "stdout",
     "output_type": "stream",
     "text": [
      "[261.47450936]\n"
     ]
    }
   ],
   "source": [
    "aaa=date.today()-timedelta(1)\n",
    "bbb=data1.iloc[-1]\n",
    "string_date=aaa.strftime('%Y-%m-%d')\n",
    "tomorrow_prediction=(Model.predict([[day.day,day.month,day.year,bbb['ma100'],bbb['ma200']]]))\n",
    "print(tomorrow_prediction)"
   ]
  },
  {
   "cell_type": "code",
   "execution_count": null,
   "id": "909ba70e",
   "metadata": {},
   "outputs": [],
   "source": []
  }
 ],
 "metadata": {
  "kernelspec": {
   "display_name": "Python 3 (ipykernel)",
   "language": "python",
   "name": "python3"
  },
  "language_info": {
   "codemirror_mode": {
    "name": "ipython",
    "version": 3
   },
   "file_extension": ".py",
   "mimetype": "text/x-python",
   "name": "python",
   "nbconvert_exporter": "python",
   "pygments_lexer": "ipython3",
   "version": "3.9.7"
  }
 },
 "nbformat": 4,
 "nbformat_minor": 5
}
