{
 "cells": [
  {
   "cell_type": "code",
   "execution_count": 3,
   "id": "5b6e09f6",
   "metadata": {},
   "outputs": [],
   "source": [
    "import numpy as np\n",
    "import pandas as pd\n",
    "import matplotlib.pyplot as plt\n",
    "import pandas_datareader as datareader\n",
    "from datetime import date\n"
   ]
  },
  {
   "cell_type": "code",
   "execution_count": 4,
   "id": "7f1f28c1",
   "metadata": {},
   "outputs": [
    {
     "data": {
      "text/html": [
       "<div>\n",
       "<style scoped>\n",
       "    .dataframe tbody tr th:only-of-type {\n",
       "        vertical-align: middle;\n",
       "    }\n",
       "\n",
       "    .dataframe tbody tr th {\n",
       "        vertical-align: top;\n",
       "    }\n",
       "\n",
       "    .dataframe thead th {\n",
       "        text-align: right;\n",
       "    }\n",
       "</style>\n",
       "<table border=\"1\" class=\"dataframe\">\n",
       "  <thead>\n",
       "    <tr style=\"text-align: right;\">\n",
       "      <th></th>\n",
       "      <th>High</th>\n",
       "      <th>Low</th>\n",
       "      <th>Open</th>\n",
       "      <th>Close</th>\n",
       "      <th>Volume</th>\n",
       "      <th>Adj Close</th>\n",
       "    </tr>\n",
       "    <tr>\n",
       "      <th>Date</th>\n",
       "      <th></th>\n",
       "      <th></th>\n",
       "      <th></th>\n",
       "      <th></th>\n",
       "      <th></th>\n",
       "      <th></th>\n",
       "    </tr>\n",
       "  </thead>\n",
       "  <tbody>\n",
       "    <tr>\n",
       "      <th>2009-12-31</th>\n",
       "      <td>7.619643</td>\n",
       "      <td>7.520000</td>\n",
       "      <td>7.611786</td>\n",
       "      <td>7.526071</td>\n",
       "      <td>352410800.0</td>\n",
       "      <td>6.444380</td>\n",
       "    </tr>\n",
       "    <tr>\n",
       "      <th>2010-01-04</th>\n",
       "      <td>7.660714</td>\n",
       "      <td>7.585000</td>\n",
       "      <td>7.622500</td>\n",
       "      <td>7.643214</td>\n",
       "      <td>493729600.0</td>\n",
       "      <td>6.544686</td>\n",
       "    </tr>\n",
       "    <tr>\n",
       "      <th>2010-01-05</th>\n",
       "      <td>7.699643</td>\n",
       "      <td>7.616071</td>\n",
       "      <td>7.664286</td>\n",
       "      <td>7.656429</td>\n",
       "      <td>601904800.0</td>\n",
       "      <td>6.556002</td>\n",
       "    </tr>\n",
       "    <tr>\n",
       "      <th>2010-01-06</th>\n",
       "      <td>7.686786</td>\n",
       "      <td>7.526786</td>\n",
       "      <td>7.656429</td>\n",
       "      <td>7.534643</td>\n",
       "      <td>552160000.0</td>\n",
       "      <td>6.451721</td>\n",
       "    </tr>\n",
       "    <tr>\n",
       "      <th>2010-01-07</th>\n",
       "      <td>7.571429</td>\n",
       "      <td>7.466071</td>\n",
       "      <td>7.562500</td>\n",
       "      <td>7.520714</td>\n",
       "      <td>477131200.0</td>\n",
       "      <td>6.439793</td>\n",
       "    </tr>\n",
       "  </tbody>\n",
       "</table>\n",
       "</div>"
      ],
      "text/plain": [
       "                High       Low      Open     Close       Volume  Adj Close\n",
       "Date                                                                      \n",
       "2009-12-31  7.619643  7.520000  7.611786  7.526071  352410800.0   6.444380\n",
       "2010-01-04  7.660714  7.585000  7.622500  7.643214  493729600.0   6.544686\n",
       "2010-01-05  7.699643  7.616071  7.664286  7.656429  601904800.0   6.556002\n",
       "2010-01-06  7.686786  7.526786  7.656429  7.534643  552160000.0   6.451721\n",
       "2010-01-07  7.571429  7.466071  7.562500  7.520714  477131200.0   6.439793"
      ]
     },
     "execution_count": 4,
     "metadata": {},
     "output_type": "execute_result"
    }
   ],
   "source": [
    "start='2010-01-01'\n",
    "end=date.today()\n",
    "data=datareader.DataReader('AAPL','yahoo',start,end)\n",
    "data1=datareader.DataReader('AMZN','yahoo',start,end)\n",
    "data.head()"
   ]
  },
  {
   "cell_type": "code",
   "execution_count": 5,
   "id": "0f4ce53b",
   "metadata": {},
   "outputs": [],
   "source": [
    "data=data.reset_index()\n",
    "data1=data1.reset_index()"
   ]
  },
  {
   "cell_type": "code",
   "execution_count": 6,
   "id": "83187849",
   "metadata": {},
   "outputs": [
    {
     "name": "stdout",
     "output_type": "stream",
     "text": [
      "<class 'pandas.core.frame.DataFrame'>\n",
      "RangeIndex: 3099 entries, 0 to 3098\n",
      "Data columns (total 7 columns):\n",
      " #   Column     Non-Null Count  Dtype         \n",
      "---  ------     --------------  -----         \n",
      " 0   Date       3099 non-null   datetime64[ns]\n",
      " 1   High       3099 non-null   float64       \n",
      " 2   Low        3099 non-null   float64       \n",
      " 3   Open       3099 non-null   float64       \n",
      " 4   Close      3099 non-null   float64       \n",
      " 5   Volume     3099 non-null   float64       \n",
      " 6   Adj Close  3099 non-null   float64       \n",
      "dtypes: datetime64[ns](1), float64(6)\n",
      "memory usage: 169.6 KB\n"
     ]
    }
   ],
   "source": [
    "data.info()"
   ]
  },
  {
   "cell_type": "code",
   "execution_count": 7,
   "id": "5b76387c",
   "metadata": {},
   "outputs": [],
   "source": [
    "data['Date'] = pd.to_datetime(data['Date'], format = '%Y%m%d')\n",
    "data1['Date'] = pd.to_datetime(data1['Date'], format = '%Y%m%d')"
   ]
  },
  {
   "cell_type": "code",
   "execution_count": 8,
   "id": "325d76bf",
   "metadata": {},
   "outputs": [],
   "source": [
    "data['day'] = data['Date'].dt.day\n",
    "data['month'] = data['Date'].dt.month\n",
    "data['year'] = data['Date'].dt.year\n",
    "\n",
    "data1['day'] = data1['Date'].dt.day\n",
    "data1['month'] = data1['Date'].dt.month\n",
    "data1['year'] = data1['Date'].dt.year"
   ]
  },
  {
   "cell_type": "code",
   "execution_count": 9,
   "id": "a7cea88a",
   "metadata": {},
   "outputs": [
    {
     "data": {
      "text/html": [
       "<div>\n",
       "<style scoped>\n",
       "    .dataframe tbody tr th:only-of-type {\n",
       "        vertical-align: middle;\n",
       "    }\n",
       "\n",
       "    .dataframe tbody tr th {\n",
       "        vertical-align: top;\n",
       "    }\n",
       "\n",
       "    .dataframe thead th {\n",
       "        text-align: right;\n",
       "    }\n",
       "</style>\n",
       "<table border=\"1\" class=\"dataframe\">\n",
       "  <thead>\n",
       "    <tr style=\"text-align: right;\">\n",
       "      <th></th>\n",
       "      <th>Date</th>\n",
       "      <th>High</th>\n",
       "      <th>Low</th>\n",
       "      <th>Open</th>\n",
       "      <th>Close</th>\n",
       "      <th>Volume</th>\n",
       "      <th>Adj Close</th>\n",
       "      <th>day</th>\n",
       "      <th>month</th>\n",
       "      <th>year</th>\n",
       "    </tr>\n",
       "  </thead>\n",
       "  <tbody>\n",
       "    <tr>\n",
       "      <th>0</th>\n",
       "      <td>2009-12-31</td>\n",
       "      <td>7.619643</td>\n",
       "      <td>7.520000</td>\n",
       "      <td>7.611786</td>\n",
       "      <td>7.526071</td>\n",
       "      <td>352410800.0</td>\n",
       "      <td>6.444380</td>\n",
       "      <td>31</td>\n",
       "      <td>12</td>\n",
       "      <td>2009</td>\n",
       "    </tr>\n",
       "    <tr>\n",
       "      <th>1</th>\n",
       "      <td>2010-01-04</td>\n",
       "      <td>7.660714</td>\n",
       "      <td>7.585000</td>\n",
       "      <td>7.622500</td>\n",
       "      <td>7.643214</td>\n",
       "      <td>493729600.0</td>\n",
       "      <td>6.544686</td>\n",
       "      <td>4</td>\n",
       "      <td>1</td>\n",
       "      <td>2010</td>\n",
       "    </tr>\n",
       "    <tr>\n",
       "      <th>2</th>\n",
       "      <td>2010-01-05</td>\n",
       "      <td>7.699643</td>\n",
       "      <td>7.616071</td>\n",
       "      <td>7.664286</td>\n",
       "      <td>7.656429</td>\n",
       "      <td>601904800.0</td>\n",
       "      <td>6.556002</td>\n",
       "      <td>5</td>\n",
       "      <td>1</td>\n",
       "      <td>2010</td>\n",
       "    </tr>\n",
       "    <tr>\n",
       "      <th>3</th>\n",
       "      <td>2010-01-06</td>\n",
       "      <td>7.686786</td>\n",
       "      <td>7.526786</td>\n",
       "      <td>7.656429</td>\n",
       "      <td>7.534643</td>\n",
       "      <td>552160000.0</td>\n",
       "      <td>6.451721</td>\n",
       "      <td>6</td>\n",
       "      <td>1</td>\n",
       "      <td>2010</td>\n",
       "    </tr>\n",
       "    <tr>\n",
       "      <th>4</th>\n",
       "      <td>2010-01-07</td>\n",
       "      <td>7.571429</td>\n",
       "      <td>7.466071</td>\n",
       "      <td>7.562500</td>\n",
       "      <td>7.520714</td>\n",
       "      <td>477131200.0</td>\n",
       "      <td>6.439793</td>\n",
       "      <td>7</td>\n",
       "      <td>1</td>\n",
       "      <td>2010</td>\n",
       "    </tr>\n",
       "  </tbody>\n",
       "</table>\n",
       "</div>"
      ],
      "text/plain": [
       "        Date      High       Low      Open     Close       Volume  Adj Close  \\\n",
       "0 2009-12-31  7.619643  7.520000  7.611786  7.526071  352410800.0   6.444380   \n",
       "1 2010-01-04  7.660714  7.585000  7.622500  7.643214  493729600.0   6.544686   \n",
       "2 2010-01-05  7.699643  7.616071  7.664286  7.656429  601904800.0   6.556002   \n",
       "3 2010-01-06  7.686786  7.526786  7.656429  7.534643  552160000.0   6.451721   \n",
       "4 2010-01-07  7.571429  7.466071  7.562500  7.520714  477131200.0   6.439793   \n",
       "\n",
       "   day  month  year  \n",
       "0   31     12  2009  \n",
       "1    4      1  2010  \n",
       "2    5      1  2010  \n",
       "3    6      1  2010  \n",
       "4    7      1  2010  "
      ]
     },
     "execution_count": 9,
     "metadata": {},
     "output_type": "execute_result"
    }
   ],
   "source": [
    "data.head()"
   ]
  },
  {
   "cell_type": "code",
   "execution_count": 10,
   "id": "18f06b4d",
   "metadata": {},
   "outputs": [
    {
     "data": {
      "text/html": [
       "<div>\n",
       "<style scoped>\n",
       "    .dataframe tbody tr th:only-of-type {\n",
       "        vertical-align: middle;\n",
       "    }\n",
       "\n",
       "    .dataframe tbody tr th {\n",
       "        vertical-align: top;\n",
       "    }\n",
       "\n",
       "    .dataframe thead th {\n",
       "        text-align: right;\n",
       "    }\n",
       "</style>\n",
       "<table border=\"1\" class=\"dataframe\">\n",
       "  <thead>\n",
       "    <tr style=\"text-align: right;\">\n",
       "      <th></th>\n",
       "      <th>Date</th>\n",
       "      <th>High</th>\n",
       "      <th>Low</th>\n",
       "      <th>Open</th>\n",
       "      <th>Close</th>\n",
       "      <th>Volume</th>\n",
       "      <th>Adj Close</th>\n",
       "      <th>day</th>\n",
       "      <th>month</th>\n",
       "      <th>year</th>\n",
       "      <th>ma100</th>\n",
       "    </tr>\n",
       "  </thead>\n",
       "  <tbody>\n",
       "    <tr>\n",
       "      <th>3094</th>\n",
       "      <td>2022-04-18</td>\n",
       "      <td>166.600006</td>\n",
       "      <td>163.570007</td>\n",
       "      <td>163.919998</td>\n",
       "      <td>165.070007</td>\n",
       "      <td>69023900.0</td>\n",
       "      <td>165.070007</td>\n",
       "      <td>18</td>\n",
       "      <td>4</td>\n",
       "      <td>2022</td>\n",
       "      <td>169.2604</td>\n",
       "    </tr>\n",
       "    <tr>\n",
       "      <th>3095</th>\n",
       "      <td>2022-04-19</td>\n",
       "      <td>167.820007</td>\n",
       "      <td>163.910004</td>\n",
       "      <td>165.020004</td>\n",
       "      <td>167.399994</td>\n",
       "      <td>67723800.0</td>\n",
       "      <td>167.399994</td>\n",
       "      <td>19</td>\n",
       "      <td>4</td>\n",
       "      <td>2022</td>\n",
       "      <td>169.3203</td>\n",
       "    </tr>\n",
       "    <tr>\n",
       "      <th>3096</th>\n",
       "      <td>2022-04-20</td>\n",
       "      <td>168.880005</td>\n",
       "      <td>166.100006</td>\n",
       "      <td>168.759995</td>\n",
       "      <td>167.229996</td>\n",
       "      <td>67929800.0</td>\n",
       "      <td>167.229996</td>\n",
       "      <td>20</td>\n",
       "      <td>4</td>\n",
       "      <td>2022</td>\n",
       "      <td>169.3732</td>\n",
       "    </tr>\n",
       "    <tr>\n",
       "      <th>3097</th>\n",
       "      <td>2022-04-21</td>\n",
       "      <td>171.529999</td>\n",
       "      <td>165.910004</td>\n",
       "      <td>168.910004</td>\n",
       "      <td>166.419998</td>\n",
       "      <td>87227800.0</td>\n",
       "      <td>166.419998</td>\n",
       "      <td>21</td>\n",
       "      <td>4</td>\n",
       "      <td>2022</td>\n",
       "      <td>169.4693</td>\n",
       "    </tr>\n",
       "    <tr>\n",
       "      <th>3098</th>\n",
       "      <td>2022-04-22</td>\n",
       "      <td>167.869995</td>\n",
       "      <td>161.500000</td>\n",
       "      <td>166.460007</td>\n",
       "      <td>161.789993</td>\n",
       "      <td>84775200.0</td>\n",
       "      <td>161.789993</td>\n",
       "      <td>22</td>\n",
       "      <td>4</td>\n",
       "      <td>2022</td>\n",
       "      <td>169.4848</td>\n",
       "    </tr>\n",
       "  </tbody>\n",
       "</table>\n",
       "</div>"
      ],
      "text/plain": [
       "           Date        High         Low        Open       Close      Volume  \\\n",
       "3094 2022-04-18  166.600006  163.570007  163.919998  165.070007  69023900.0   \n",
       "3095 2022-04-19  167.820007  163.910004  165.020004  167.399994  67723800.0   \n",
       "3096 2022-04-20  168.880005  166.100006  168.759995  167.229996  67929800.0   \n",
       "3097 2022-04-21  171.529999  165.910004  168.910004  166.419998  87227800.0   \n",
       "3098 2022-04-22  167.869995  161.500000  166.460007  161.789993  84775200.0   \n",
       "\n",
       "       Adj Close  day  month  year     ma100  \n",
       "3094  165.070007   18      4  2022  169.2604  \n",
       "3095  167.399994   19      4  2022  169.3203  \n",
       "3096  167.229996   20      4  2022  169.3732  \n",
       "3097  166.419998   21      4  2022  169.4693  \n",
       "3098  161.789993   22      4  2022  169.4848  "
      ]
     },
     "execution_count": 10,
     "metadata": {},
     "output_type": "execute_result"
    }
   ],
   "source": [
    "data['ma100'] = data.Close.rolling(100).mean()\n",
    "data.tail()"
   ]
  },
  {
   "cell_type": "code",
   "execution_count": 11,
   "id": "e943aa5d",
   "metadata": {},
   "outputs": [
    {
     "data": {
      "text/html": [
       "<div>\n",
       "<style scoped>\n",
       "    .dataframe tbody tr th:only-of-type {\n",
       "        vertical-align: middle;\n",
       "    }\n",
       "\n",
       "    .dataframe tbody tr th {\n",
       "        vertical-align: top;\n",
       "    }\n",
       "\n",
       "    .dataframe thead th {\n",
       "        text-align: right;\n",
       "    }\n",
       "</style>\n",
       "<table border=\"1\" class=\"dataframe\">\n",
       "  <thead>\n",
       "    <tr style=\"text-align: right;\">\n",
       "      <th></th>\n",
       "      <th>Date</th>\n",
       "      <th>High</th>\n",
       "      <th>Low</th>\n",
       "      <th>Open</th>\n",
       "      <th>Close</th>\n",
       "      <th>Volume</th>\n",
       "      <th>Adj Close</th>\n",
       "      <th>day</th>\n",
       "      <th>month</th>\n",
       "      <th>year</th>\n",
       "      <th>ma100</th>\n",
       "      <th>ma200</th>\n",
       "    </tr>\n",
       "  </thead>\n",
       "  <tbody>\n",
       "    <tr>\n",
       "      <th>3094</th>\n",
       "      <td>2022-04-18</td>\n",
       "      <td>166.600006</td>\n",
       "      <td>163.570007</td>\n",
       "      <td>163.919998</td>\n",
       "      <td>165.070007</td>\n",
       "      <td>69023900.0</td>\n",
       "      <td>165.070007</td>\n",
       "      <td>18</td>\n",
       "      <td>4</td>\n",
       "      <td>2022</td>\n",
       "      <td>169.2604</td>\n",
       "      <td>158.50775</td>\n",
       "    </tr>\n",
       "    <tr>\n",
       "      <th>3095</th>\n",
       "      <td>2022-04-19</td>\n",
       "      <td>167.820007</td>\n",
       "      <td>163.910004</td>\n",
       "      <td>165.020004</td>\n",
       "      <td>167.399994</td>\n",
       "      <td>67723800.0</td>\n",
       "      <td>167.399994</td>\n",
       "      <td>19</td>\n",
       "      <td>4</td>\n",
       "      <td>2022</td>\n",
       "      <td>169.3203</td>\n",
       "      <td>158.64495</td>\n",
       "    </tr>\n",
       "    <tr>\n",
       "      <th>3096</th>\n",
       "      <td>2022-04-20</td>\n",
       "      <td>168.880005</td>\n",
       "      <td>166.100006</td>\n",
       "      <td>168.759995</td>\n",
       "      <td>167.229996</td>\n",
       "      <td>67929800.0</td>\n",
       "      <td>167.229996</td>\n",
       "      <td>20</td>\n",
       "      <td>4</td>\n",
       "      <td>2022</td>\n",
       "      <td>169.3732</td>\n",
       "      <td>158.77100</td>\n",
       "    </tr>\n",
       "    <tr>\n",
       "      <th>3097</th>\n",
       "      <td>2022-04-21</td>\n",
       "      <td>171.529999</td>\n",
       "      <td>165.910004</td>\n",
       "      <td>168.910004</td>\n",
       "      <td>166.419998</td>\n",
       "      <td>87227800.0</td>\n",
       "      <td>166.419998</td>\n",
       "      <td>21</td>\n",
       "      <td>4</td>\n",
       "      <td>2022</td>\n",
       "      <td>169.4693</td>\n",
       "      <td>158.88025</td>\n",
       "    </tr>\n",
       "    <tr>\n",
       "      <th>3098</th>\n",
       "      <td>2022-04-22</td>\n",
       "      <td>167.869995</td>\n",
       "      <td>161.500000</td>\n",
       "      <td>166.460007</td>\n",
       "      <td>161.789993</td>\n",
       "      <td>84775200.0</td>\n",
       "      <td>161.789993</td>\n",
       "      <td>22</td>\n",
       "      <td>4</td>\n",
       "      <td>2022</td>\n",
       "      <td>169.4848</td>\n",
       "      <td>158.97300</td>\n",
       "    </tr>\n",
       "  </tbody>\n",
       "</table>\n",
       "</div>"
      ],
      "text/plain": [
       "           Date        High         Low        Open       Close      Volume  \\\n",
       "3094 2022-04-18  166.600006  163.570007  163.919998  165.070007  69023900.0   \n",
       "3095 2022-04-19  167.820007  163.910004  165.020004  167.399994  67723800.0   \n",
       "3096 2022-04-20  168.880005  166.100006  168.759995  167.229996  67929800.0   \n",
       "3097 2022-04-21  171.529999  165.910004  168.910004  166.419998  87227800.0   \n",
       "3098 2022-04-22  167.869995  161.500000  166.460007  161.789993  84775200.0   \n",
       "\n",
       "       Adj Close  day  month  year     ma100      ma200  \n",
       "3094  165.070007   18      4  2022  169.2604  158.50775  \n",
       "3095  167.399994   19      4  2022  169.3203  158.64495  \n",
       "3096  167.229996   20      4  2022  169.3732  158.77100  \n",
       "3097  166.419998   21      4  2022  169.4693  158.88025  \n",
       "3098  161.789993   22      4  2022  169.4848  158.97300  "
      ]
     },
     "execution_count": 11,
     "metadata": {},
     "output_type": "execute_result"
    }
   ],
   "source": [
    "data['ma200'] = data.Close.rolling(200).mean()\n",
    "data.tail()"
   ]
  },
  {
   "cell_type": "code",
   "execution_count": 12,
   "id": "4ea56a6e",
   "metadata": {},
   "outputs": [],
   "source": [
    "data1['ma200'] = data1.Close.rolling(200).mean()\n",
    "data1['ma100'] = data1.Close.rolling(200).mean()"
   ]
  },
  {
   "cell_type": "code",
   "execution_count": 13,
   "id": "4caa77e6",
   "metadata": {},
   "outputs": [],
   "source": [
    "data1=data1.dropna()"
   ]
  },
  {
   "cell_type": "code",
   "execution_count": 14,
   "id": "c7d052dc",
   "metadata": {},
   "outputs": [
    {
     "data": {
      "text/plain": [
       "[<matplotlib.lines.Line2D at 0x24c812bd610>]"
      ]
     },
     "execution_count": 14,
     "metadata": {},
     "output_type": "execute_result"
    },
    {
     "data": {
      "image/png": "[encoded data removed]",
      "text/plain": [
       "<Figure size 864x432 with 1 Axes>"
      ]
     },
     "metadata": {
      "needs_background": "light"
     },
     "output_type": "display_data"
    }
   ],
   "source": [
    "plt.figure(figsize= (12,6))\n",
    "plt.plot(data.Close)\n",
    "plt.plot(data['ma100'])\n",
    "plt.plot(data['ma200'])"
   ]
  },
  {
   "cell_type": "code",
   "execution_count": 15,
   "id": "1b310333",
   "metadata": {},
   "outputs": [],
   "source": [
    "data=data.dropna()"
   ]
  },
  {
   "cell_type": "code",
   "execution_count": 16,
   "id": "b21afe10",
   "metadata": {},
   "outputs": [],
   "source": [
    "X=data[['day','month','year','ma100','ma200']]"
   ]
  },
  {
   "cell_type": "code",
   "execution_count": 17,
   "id": "4758b393",
   "metadata": {},
   "outputs": [],
   "source": [
    "y=data['Close']"
   ]
  },
  {
   "cell_type": "code",
   "execution_count": 18,
   "id": "3a07d8d6",
   "metadata": {},
   "outputs": [
    {
     "data": {
      "text/plain": [
       "(2900, 5)"
      ]
     },
     "execution_count": 18,
     "metadata": {},
     "output_type": "execute_result"
    }
   ],
   "source": [
    "X.shape"
   ]
  },
  {
   "cell_type": "code",
   "execution_count": 19,
   "id": "122aeda4",
   "metadata": {},
   "outputs": [],
   "source": [
    "X=X.dropna()"
   ]
  },
  {
   "cell_type": "code",
   "execution_count": 20,
   "id": "e66ce882",
   "metadata": {},
   "outputs": [
    {
     "data": {
      "text/plain": [
       "(2900, 5)"
      ]
     },
     "execution_count": 20,
     "metadata": {},
     "output_type": "execute_result"
    }
   ],
   "source": [
    "X.shape"
   ]
  },
  {
   "cell_type": "code",
   "execution_count": 21,
   "id": "5f4dbcaf",
   "metadata": {},
   "outputs": [],
   "source": [
    "from sklearn.model_selection import train_test_split\n",
    "X_train,X_test,y_train,y_test=train_test_split(X,y,test_size=0.3,random_state=1)"
   ]
  },
  {
   "cell_type": "code",
   "execution_count": 22,
   "id": "67c40869",
   "metadata": {},
   "outputs": [
    {
     "name": "stdout",
     "output_type": "stream",
     "text": [
      "(2030, 5)\n"
     ]
    },
    {
     "data": {
      "text/plain": [
       "(2030,)"
      ]
     },
     "execution_count": 22,
     "metadata": {},
     "output_type": "execute_result"
    }
   ],
   "source": [
    "print(X_train.shape)\n",
    "y_train.shape"
   ]
  },
  {
   "cell_type": "code",
   "execution_count": 23,
   "id": "259770f1",
   "metadata": {},
   "outputs": [],
   "source": [
    "from sklearn.linear_model import LinearRegression\n",
    "Model = LinearRegression().fit(X_train,y_train)"
   ]
  },
  {
   "cell_type": "code",
   "execution_count": 24,
   "id": "e87db42f",
   "metadata": {},
   "outputs": [
    {
     "data": {
      "text/plain": [
       "0.9869752625846218"
      ]
     },
     "execution_count": 24,
     "metadata": {},
     "output_type": "execute_result"
    }
   ],
   "source": [
    "Model.score(X_test,y_test)"
   ]
  },
  {
   "cell_type": "code",
   "execution_count": 25,
   "id": "3197f608",
   "metadata": {},
   "outputs": [
    {
     "name": "stdout",
     "output_type": "stream",
     "text": [
      "[  9.53048284   9.53580581   9.54927775 ... 179.12344183 179.20890807\n",
      " 179.18959962]\n"
     ]
    },
    {
     "data": {
      "text/plain": [
       "199      11.240714\n",
       "200      11.357143\n",
       "201      11.053214\n",
       "202      11.090357\n",
       "203      11.054286\n",
       "           ...    \n",
       "3094    165.070007\n",
       "3095    167.399994\n",
       "3096    167.229996\n",
       "3097    166.419998\n",
       "3098    161.789993\n",
       "Name: Close, Length: 2900, dtype: float64"
      ]
     },
     "execution_count": 25,
     "metadata": {},
     "output_type": "execute_result"
    }
   ],
   "source": [
    "print(Model.predict(X))\n",
    "output = pd.DataFrame(Model.predict(X))\n",
    "y"
   ]
  },
  {
   "cell_type": "code",
   "execution_count": 26,
   "id": "a63b6ca2",
   "metadata": {},
   "outputs": [
    {
     "data": {
      "text/plain": [
       "[<matplotlib.lines.Line2D at 0x24c82bb2bb0>]"
      ]
     },
     "execution_count": 26,
     "metadata": {},
     "output_type": "execute_result"
    },
    {
     "data": {
      "image/png": "[encoded data removed]",
      "text/plain": [
       "<Figure size 864x432 with 1 Axes>"
      ]
     },
     "metadata": {
      "needs_background": "light"
     },
     "output_type": "display_data"
    }
   ],
   "source": [
    "plt.figure(figsize= (12,6))\n",
    "plt.plot(output,'r',label= 'Predicted Price')\n"
   ]
  },
  {
   "cell_type": "code",
   "execution_count": 304,
   "id": "ae9183b5",
   "metadata": {},
   "outputs": [
    {
     "data": {
      "text/plain": [
       "[<matplotlib.lines.Line2D at 0x2c3ba7863d0>]"
      ]
     },
     "execution_count": 304,
     "metadata": {},
     "output_type": "execute_result"
    },
    {
     "data": {
      "image/png": "[encoded data removed]",
      "text/plain": [
       "<Figure size 864x432 with 1 Axes>"
      ]
     },
     "metadata": {
      "needs_background": "light"
     },
     "output_type": "display_data"
    }
   ],
   "source": [
    "plt.figure(figsize= (12,6))\n",
    "plt.plot(y, 'b' ,label= 'Original Price')\n",
    "plt.plot(output,'r',label= 'Predicted Price')"
   ]
  },
  {
   "cell_type": "code",
   "execution_count": 305,
   "id": "c8c7773a",
   "metadata": {},
   "outputs": [],
   "source": [
    "data1=data1.dropna()"
   ]
  },
  {
   "cell_type": "code",
   "execution_count": 306,
   "id": "7f930c9e",
   "metadata": {},
   "outputs": [
    {
     "name": "stdout",
     "output_type": "stream",
     "text": [
      "                0\n",
      "0      132.788159\n",
      "1      132.912266\n",
      "2      133.030678\n",
      "3      133.145057\n",
      "4      133.304059\n",
      "...           ...\n",
      "2895  3385.458846\n",
      "2896  3383.670624\n",
      "2897  3380.620757\n",
      "2898  3376.882247\n",
      "2899  3372.562975\n",
      "\n",
      "[2900 rows x 1 columns]\n",
      "          Date        High         Low        Open       Close    Volume  \\\n",
      "199 2010-10-15  164.880005  156.750000  158.419998  164.639999  10135500   \n",
      "200 2010-10-18  165.190002  161.820007  165.000000  163.559998   6331300   \n",
      "201 2010-10-19  162.800003  157.000000  160.679993  158.669998   7525000   \n",
      "202 2010-10-20  159.869995  156.570007  158.779999  158.669998   5790400   \n",
      "203 2010-10-21  166.130005  161.289993  162.669998  164.970001  13482500   \n",
      "\n",
      "      Adj Close  day  month  year      ma200      ma100  \n",
      "199  164.639999   15     10  2010  130.35480  130.35480  \n",
      "200  163.559998   18     10  2010  130.50000  130.50000  \n",
      "201  158.669998   19     10  2010  130.62385  130.62385  \n",
      "202  158.669998   20     10  2010  130.74375  130.74375  \n",
      "203  164.970001   21     10  2010  130.90735  130.90735  \n"
     ]
    }
   ],
   "source": [
    "output = pd.DataFrame(Model.predict(data1[['day','month','year','ma100','ma200']]))\n",
    "print(output)\n",
    "print(data1.head())"
   ]
  },
  {
   "cell_type": "code",
   "execution_count": 307,
   "id": "0152f598",
   "metadata": {},
   "outputs": [
    {
     "data": {
      "text/plain": [
       "[<matplotlib.lines.Line2D at 0x2c3b7fc9280>]"
      ]
     },
     "execution_count": 307,
     "metadata": {},
     "output_type": "execute_result"
    },
    {
     "data": {
      "image/png": "[encoded data removed]",
      "text/plain": [
       "<Figure size 864x432 with 1 Axes>"
      ]
     },
     "metadata": {
      "needs_background": "light"
     },
     "output_type": "display_data"
    }
   ],
   "source": [
    "plt.figure(figsize= (12,6))\n",
    "plt.plot(data1.Close, 'b' ,label= 'Original Price')"
   ]
  },
  {
   "cell_type": "code",
   "execution_count": 308,
   "id": "5bf09e7e",
   "metadata": {},
   "outputs": [
    {
     "data": {
      "text/plain": [
       "[<matplotlib.lines.Line2D at 0x2c3b802ea60>]"
      ]
     },
     "execution_count": 308,
     "metadata": {},
     "output_type": "execute_result"
    },
    {
     "data": {
      "image/png": "[encoded data removed]",
      "text/plain": [
       "<Figure size 864x432 with 1 Axes>"
      ]
     },
     "metadata": {
      "needs_background": "light"
     },
     "output_type": "display_data"
    }
   ],
   "source": [
    "plt.figure(figsize= (12,6))\n",
    "plt.plot(output, 'r' ,label= 'Predicted Price')\n",
    "plt.plot(data1.Close, 'b' ,label= 'Original Price')"
   ]
  },
  {
   "cell_type": "code",
   "execution_count": null,
   "id": "1ffeaf7b",
   "metadata": {},
   "outputs": [],
   "source": []
  },
  {
   "cell_type": "code",
   "execution_count": null,
   "id": "ac837985",
   "metadata": {},
   "outputs": [],
   "source": []
  }
 ],
 "metadata": {
  "kernelspec": {
   "display_name": "Python 3 (ipykernel)",
   "language": "python",
   "name": "python3"
  },
  "language_info": {
   "codemirror_mode": {
    "name": "ipython",
    "version": 3
   },
   "file_extension": ".py",
   "mimetype": "text/x-python",
   "name": "python",
   "nbconvert_exporter": "python",
   "pygments_lexer": "ipython3",
   "version": "3.9.7"
  }
 },
 "nbformat": 4,
 "nbformat_minor": 5
}
